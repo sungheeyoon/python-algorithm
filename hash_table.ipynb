{
 "cells": [
  {
   "cell_type": "markdown",
   "metadata": {},
   "source": [
    "### leetcode706. Design HashMap\n",
    "\n",
    "\n",
    "Design a HashMap without using any built-in hash table libraries.\n",
    "\n",
    "Implement the MyHashMap class:\n",
    "\n",
    "MyHashMap() initializes the object with an empty map.<br>\n",
    "void put(int key, int value) inserts a (key, value) pair into the HashMap. If the key already exists in the map, update the corresponding value.<br>\n",
    "int get(int key) returns the value to which the specified key is mapped, or -1 if this map contains no mapping for the key.<br>\n",
    "void remove(key) removes the key and its corresponding value if the map contains the mapping for the key.\n",
    "***\n",
    "Example 1:\n",
    "\n",
    "Input<br>\n",
    "[\"MyHashMap\", \"put\", \"put\", \"get\", \"get\", \"put\", \"get\", \"remove\", \"get\"]<br>\n",
    "[[], [1, 1], [2, 2], [1], [3], [2, 1], [2], [2], [2]]\n",
    "\n",
    "Output<br>\n",
    "[null, null, null, 1, -1, null, 1, null, -1]\n",
    "\n",
    "Explanation<br>\n",
    "MyHashMap myHashMap = new MyHashMap();<br>\n",
    "myHashMap.put(1, 1); // The map is now [[1,1]]<br>\n",
    "myHashMap.put(2, 2); // The map is now [[1,1], [2,2]]<br>\n",
    "myHashMap.get(1);    // return 1, The map is now [[1,1], [2,2]]<br>\n",
    "myHashMap.get(3);    // return -1 (i.e., not found), The map is now [[1,1], [2,2]]<br>\n",
    "myHashMap.put(2, 1); // The map is now [[1,1], [2,1]] (i.e., update the existing value)<br>\n",
    "myHashMap.get(2);    // return 1, The map is now [[1,1], [2,1]]<br>\n",
    "myHashMap.remove(2); // remove the mapping for 2, The map is now [[1,1]]<br>\n",
    "myHashMap.get(2);    // return -1 (i.e., not found), The map is now [[1,1]]"
   ]
  },
  {
   "cell_type": "code",
   "execution_count": null,
   "metadata": {},
   "outputs": [],
   "source": [
    "class MyHashMap:\n",
    "\n",
    "    def __init__(self):\n",
    "        self.dic = {}\n",
    "\n",
    "    def put(self, key: int, value: int) -> None:\n",
    "        self.dic[key]=value\n",
    "\n",
    "    def get(self, key: int) -> int:\n",
    "        return self.dic.get(key,-1)\n",
    "\n",
    "    def remove(self, key: int) -> None:\n",
    "        self.dic.pop(key, None)\n",
    "# Your MyHashMap object will be instantiated and called as such:\n",
    "# obj = MyHashMap()\n",
    "# obj.put(key,value)\n",
    "# param_2 = obj.get(key)\n",
    "# obj.remove(key)"
   ]
  },
  {
   "cell_type": "code",
   "execution_count": null,
   "metadata": {},
   "outputs": [],
   "source": [
    "#체이닝 방식\n",
    "class MyHashMap:\n",
    "\n",
    "    def __init__(self):\n",
    "        self.size = 1000\n",
    "        self.table = collections.defaultdict(ListNode)\n",
    "\n",
    "    def put(self, key: int, value: int) -> None:\n",
    "        index = key % self.size\n",
    "\n",
    "        if self.table[index].value is None:\n",
    "            self.table[index] = ListNode(key, value)\n",
    "            return\n",
    "        \n",
    "        p = self.table[index]\n",
    "        while p:\n",
    "            #업데이트\n",
    "            if p.key == key:\n",
    "                p.value = value\n",
    "            #p가 마지막 노드를 가르키면 종료\n",
    "            if p.next is None:\n",
    "                break\n",
    "            p = p.next\n",
    "        #링크드리스트 마지막에 삽입\n",
    "        p.next = ListNode(key, value)\n",
    "\n",
    "\n",
    "    def get(self, key: int) -> int:\n",
    "        index = key % self.size\n",
    "        if self.table[index].value is None:\n",
    "            return -1\n",
    "        \n",
    "        p = self.table[index]\n",
    "        while p:\n",
    "            if p.key == key:\n",
    "                return p.value\n",
    "            p = p.next\n",
    "        return -1\n",
    "\n",
    "    def remove(self, key: int) -> None:\n",
    "        index = key % self.size\n",
    "        if self.table[index].value is None:\n",
    "            return\n",
    "        \n",
    "        #인덱스의 첫 번째 노드일 때\n",
    "        p = self.table[index]\n",
    "        if p.key == key:\n",
    "            self.table[index] = ListNode() if p.next is None else p.next\n",
    "            return\n",
    "        #연결 리스트 노드 삭제\n",
    "        prev = p\n",
    "        while p:\n",
    "            if p.key == key:\n",
    "                prev.next = p.next\n",
    "            prev, p = p, p.next\n",
    "# Your MyHashMap object will be instantiated and called as such:\n",
    "# obj = MyHashMap()\n",
    "# obj.put(key,value)\n",
    "# param_2 = obj.get(key)\n",
    "# obj.remove(key)"
   ]
  },
  {
   "cell_type": "markdown",
   "metadata": {},
   "source": [
    "### leetcode771. Jewels and Stones\n",
    "\n",
    "\n",
    "You're given strings jewels representing the types of stones that are jewels, and stones representing the stones you have. Each character in stones is a type of stone you have. You want to know how many of the stones you have are also jewels.\n",
    "\n",
    "Letters are case sensitive, so \"a\" is considered a different type of stone from \"A\".\n",
    "***\n",
    "Example 1:\n",
    "\n",
    "Input: jewels = \"aA\", stones = \"aAAbbbb\"<br>\n",
    "Output: 3"
   ]
  },
  {
   "cell_type": "code",
   "execution_count": null,
   "metadata": {},
   "outputs": [],
   "source": [
    "#나의 풀이 Runtime58 ms\n",
    "class Solution:\n",
    "    def numJewelsInStones(self, jewels: str, stones: str) -> int:\n",
    "        hash_map = {}\n",
    "\n",
    "        for jewel in jewels:\n",
    "            hash_map[jewel] = 0\n",
    "        \n",
    "        for s in stones:\n",
    "            if s in hash_map:\n",
    "                hash_map[s] +=1\n",
    "        \n",
    "        return sum(hash_map.values())"
   ]
  },
  {
   "cell_type": "code",
   "execution_count": null,
   "metadata": {},
   "outputs": [],
   "source": [
    "#책 해쉬 풀이 Runtime59 ms\n",
    "class Solution:\n",
    "    def numJewelsInStones(self, jewels: str, stones: str) -> int:\n",
    "        freqs = {}\n",
    "        count = 0\n",
    "\n",
    "        for char in stones:\n",
    "            if char not in freqs:\n",
    "                freqs[char] = 1\n",
    "            else:\n",
    "                freqs[char] += 1\n",
    "        \n",
    "        for char in jewels:\n",
    "            if char in freqs:\n",
    "                count += freqs[char]\n",
    "\n",
    "        return count"
   ]
  },
  {
   "cell_type": "code",
   "execution_count": null,
   "metadata": {},
   "outputs": [],
   "source": [
    "#collections.defaultdict를 사용하여 dict키여부를 확인할 필요가없다.Runtime53 ms\n",
    "class Solution:\n",
    "    def numJewelsInStones(self, jewels: str, stones: str) -> int:\n",
    "        freqs = collections.defaultdict(int)\n",
    "        count = 0\n",
    "\n",
    "        for char in stones:\n",
    "            freqs[char] += 1\n",
    "        \n",
    "        for char in jewels:\n",
    "            count += freqs[char]\n",
    "\n",
    "        return count"
   ]
  },
  {
   "cell_type": "code",
   "execution_count": null,
   "metadata": {},
   "outputs": [],
   "source": [
    "#collections.Counter 사용 풀이법 Runtime52 ms\n",
    "class Solution:\n",
    "    def numJewelsInStones(self, jewels: str, stones: str) -> int:\n",
    "        freqs = collections.Counter(stones) #빈도 수 계산\n",
    "        count = 0\n",
    "        #Counter는 존재하지 않는 키의 경우 0을 출력해준다.\n",
    "        for char in jewels:\n",
    "            count += freqs[char]\n",
    "\n",
    "        return count"
   ]
  },
  {
   "cell_type": "code",
   "execution_count": null,
   "metadata": {},
   "outputs": [],
   "source": [
    "#파이썬 컴프리핸션  Runtime75 ms Runtime39 ms\n",
    "#책에선 모든 코드의 수행속도는 비슷하다고했는데 나는 가장 느리게나왔다가 가장빠르게나왔다???.\n",
    "class Solution:\n",
    "    def numJewelsInStones(self, jewels: str, stones: str) -> int:\n",
    "        #s 가 jewels 안에있으면 True\n",
    "        return sum(s in jewels for s in stones)"
   ]
  },
  {
   "cell_type": "markdown",
   "metadata": {},
   "source": [
    "### leetcode3. Longest Substring Without Repeating Characters\n",
    "\n",
    "\n",
    "Given a string s, find the length of the longest substring without repeating characters.\n",
    "***\n",
    "Example 1:\n",
    "\n",
    "Input: s = \"abcabcbb\"<br>\n",
    "Output: 3<br>\n",
    "Explanation: The answer is \"abc\", with the length of 3."
   ]
  },
  {
   "cell_type": "code",
   "execution_count": null,
   "metadata": {},
   "outputs": [],
   "source": [
    "class Solution:\n",
    "    def lengthOfLongestSubstring(self, s: str) -> int:\n",
    "        used={}\n",
    "        max_len = start = 0\n",
    "        for idx,char in enumerate(s):\n",
    "\n",
    "            if char in used and start <= used[char]:\n",
    "                start= used[char]+1\n",
    "            else:\n",
    "                max_len = max(max_len, idx - start + 1)\n",
    "        \n",
    "            used[char] = idx\n",
    "        \n",
    "        return max_len\n"
   ]
  },
  {
   "cell_type": "markdown",
   "metadata": {},
   "source": [
    "### leetcode347. Top K Frequent Elements\n",
    "\n",
    "\n",
    "Given an integer array nums and an integer k, return the k most frequent elements. You may return the answer in any order.\n",
    "***\n",
    "Example 1:\n",
    "\n",
    "Input: nums = [1,1,1,2,2,3], k = 2<br>\n",
    "Output: [1,2]"
   ]
  },
  {
   "cell_type": "code",
   "execution_count": null,
   "metadata": {},
   "outputs": [],
   "source": [
    "class Solution:\n",
    "    def topKFrequent(self, nums: List[int], k: int) -> List[int]:\n",
    "        # *는 언팩으로 zip함수후 list로다시 묶는다.\n",
    "        return list(zip(*collections.Counter(nums).most_common(k)))[0]"
   ]
  },
  {
   "cell_type": "code",
   "execution_count": null,
   "metadata": {},
   "outputs": [],
   "source": [
    "class Solution:\n",
    "    def topKFrequent(self, nums: List[int], k: int) -> List[int]:\n",
    "        freqs = collections.Counter(nums)\n",
    "        freqs_heap = []\n",
    "        #힙에 음수로 삽입하는이유는 heappop시 작은값부터 추출하므로 역순유도\n",
    "        for f in freqs:\n",
    "            heapq.heappush(freqs_heap, (-freqs[f], f))\n",
    "        \n",
    "        topk = list()\n",
    "        #왜 k번인지?\n",
    "        for _ in range(k):\n",
    "            topk.append(heapq.heappop(freqs_heap)[1])\n",
    "        \n",
    "        return topk"
   ]
  }
 ],
 "metadata": {
  "kernelspec": {
   "display_name": "Python 3.10.2 64-bit",
   "language": "python",
   "name": "python3"
  },
  "language_info": {
   "name": "python",
   "version": "3.10.2"
  },
  "orig_nbformat": 4,
  "vscode": {
   "interpreter": {
    "hash": "42d32b1e20b5f0f90a8678623a60d916f416705640fd2210905ba178817c6883"
   }
  }
 },
 "nbformat": 4,
 "nbformat_minor": 2
}
