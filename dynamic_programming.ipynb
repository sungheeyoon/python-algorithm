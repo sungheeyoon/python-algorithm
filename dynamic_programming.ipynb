{
 "cells": [
  {
   "attachments": {},
   "cell_type": "markdown",
   "metadata": {},
   "source": [
    "### leetcod509. Fibonacci Number\n",
    "\n",
    "\n",
    "The Fibonacci numbers, commonly denoted F(n) form a sequence, called the Fibonacci sequence, such that each number is the sum of the two preceding ones, starting from 0 and 1. That is,<br>\n",
    "F(0) = 0, F(1) = 1<br>\n",
    "F(n) = F(n - 1) + F(n - 2), for n > 1.\n",
    "***\n",
    "Example 1:\n",
    "\n",
    "Input: n = 2<br>\n",
    "Output: 1<br>\n",
    "Explanation: F(2) = F(1) + F(0) = 1 + 0 = 1."
   ]
  },
  {
   "cell_type": "code",
   "execution_count": null,
   "metadata": {},
   "outputs": [],
   "source": [
    "class Solution:\n",
    "    def fib(self, n: int) -> int:\n",
    "        if n <= 1:\n",
    "            return n\n",
    "        return self.fib(n - 1) + self.fib(n - 2)"
   ]
  },
  {
   "cell_type": "code",
   "execution_count": null,
   "metadata": {},
   "outputs": [],
   "source": [
    "#하향식\n",
    "class Solution:\n",
    "    dp = collections.defaultdict(int)\n",
    "    def fib(self, n: int) -> int:\n",
    "        if n <= 1:\n",
    "            return n\n",
    "        if self.dp[n]:\n",
    "            return self.dp[n]\n",
    "        self.dp[n] = self.fib(n - 1) + self.fib(n - 2)\n",
    "        return self.dp[n]"
   ]
  },
  {
   "cell_type": "code",
   "execution_count": null,
   "metadata": {},
   "outputs": [],
   "source": [
    "#상향식\n",
    "class Solution:\n",
    "    dp = collections.defaultdict(int)\n",
    "    def fib(self, n: int) -> int:\n",
    "        self.dp[0] = 0\n",
    "        self.dp[1] = 1\n",
    "\n",
    "        for i in range(2, n + 1):\n",
    "            self.dp[i] = self.fib(i - 1) + self.fib(i - 2)\n",
    "        return self.dp[n]"
   ]
  },
  {
   "cell_type": "code",
   "execution_count": null,
   "metadata": {},
   "outputs": [],
   "source": [
    "class Solution:\n",
    "    def fib(self, n: int) -> int:\n",
    "        x, y = 0, 1\n",
    "        for i in range(0, n):\n",
    "            x, y = y, x + y\n",
    "        return x"
   ]
  },
  {
   "cell_type": "code",
   "execution_count": null,
   "metadata": {},
   "outputs": [],
   "source": [
    "#log n 참고용\n",
    "class Solution:\n",
    "    def fib(self, n: int) -> int:\n",
    "        M = np.matrix([0, 1], [1, 1])\n",
    "        vec = np.array([[0], [1]])\n",
    "\n",
    "        return np.matmul(M ** n ,vec)[0]"
   ]
  },
  {
   "attachments": {},
   "cell_type": "markdown",
   "metadata": {},
   "source": [
    "### (배낭문제)"
   ]
  },
  {
   "cell_type": "code",
   "execution_count": 1,
   "metadata": {},
   "outputs": [
    {
     "data": {
      "text/plain": [
       "15"
      ]
     },
     "execution_count": 1,
     "metadata": {},
     "output_type": "execute_result"
    }
   ],
   "source": [
    "def zero_one_knapsack(cargo):\n",
    "    #배낭의 최대 용량\n",
    "    capacity = 15\n",
    "    pack = []\n",
    "    \n",
    "    #짐의 최대 개수  +1, 배낭의 최대 용량+1 즉 6x16 행렬형태의 중간 결과 테이블 생성\n",
    "    for i in range(len(cargo) + 1):\n",
    "        pack.append([])\n",
    "        for c in range(capacity + 1):\n",
    "            if i == 0 or c == 0:\n",
    "                pack[i].append(0)\n",
    "            elif cargo[i - 1][1] <= c:\n",
    "                pack[i].append(\n",
    "                    max(\n",
    "                        cargo[i - 1][0] + pack[i - 1][c - cargo[i - 1][1]],\n",
    "                        pack[i - 1][c]\n",
    "                    )\n",
    "                )\n",
    "            else:\n",
    "                pack[i].append(pack[i - 1][c])\n",
    "    return pack[-1][-1]\n",
    "\n",
    "#(dollars, kg)\n",
    "cargo = [\n",
    "    (4, 12),\n",
    "    (2, 1),\n",
    "    (10, 4),\n",
    "    (1, 1),\n",
    "    (2, 2)\n",
    "]\n",
    "zero_one_knapsack(cargo)"
   ]
  },
  {
   "attachments": {},
   "cell_type": "markdown",
   "metadata": {},
   "source": [
    "### leetcode53. Maximum Subarray\n",
    "\n",
    "\n",
    "Given an integer array nums, find the subarray which has the largest sum and return its sum.\n",
    "***\n",
    "Example 1:\n",
    "\n",
    "Input: nums = [-2,1,-3,4,-1,2,1,-5,4]<br>\n",
    "Output: 6<br>\n",
    "Explanation: [4,-1,2,1] has the largest sum = 6."
   ]
  },
  {
   "cell_type": "code",
   "execution_count": null,
   "metadata": {},
   "outputs": [],
   "source": [
    "class Solution:\n",
    "    def maxSubArray(self, nums: List[int]) -> int:\n",
    "        for i in range(1, len(nums)):\n",
    "            nums[i] += nums[i - 1] if nums[i - 1] > 0 else 0\n",
    "        return max(nums)"
   ]
  },
  {
   "cell_type": "code",
   "execution_count": null,
   "metadata": {},
   "outputs": [],
   "source": [
    "class Solution:\n",
    "    def maxSubArray(self, nums: List[int]) -> int:\n",
    "        best_sum = -sys.maxsize\n",
    "        current_sum = 0\n",
    "        for num in nums:\n",
    "            current_sum = max(num, current_sum + num)\n",
    "            best_sum = max(best_sum, current_sum)\n",
    "        return best_sum"
   ]
  },
  {
   "attachments": {},
   "cell_type": "markdown",
   "metadata": {},
   "source": [
    "### leetcode70. Climbing Stairs\n",
    "\n",
    "\n",
    "You are climbing a staircase. It takes n steps to reach the top.\n",
    "\n",
    "Each time you can either climb 1 or 2 steps. In how many distinct ways can you climb to the top?\n",
    "***\n",
    "Example 1:\n",
    "\n",
    "Input: n = 2<br>\n",
    "Output: 2<br>\n",
    "Explanation: There are two ways to climb to the top.<br>\n",
    "1. 1 step + 1 step<br>\n",
    "2. 2 steps"
   ]
  },
  {
   "cell_type": "code",
   "execution_count": null,
   "metadata": {},
   "outputs": [],
   "source": [
    "class Solution:\n",
    "    def climbStairs(self, n: int) -> int:\n",
    "        if n == 1:\n",
    "            return 1\n",
    "        if n == 2:\n",
    "            return 2\n",
    "        return self.climbStairs(n - 1) + self.climbStairs(n - 2)"
   ]
  },
  {
   "cell_type": "code",
   "execution_count": null,
   "metadata": {},
   "outputs": [],
   "source": [
    "#피보나치랑 똑같은 풀이\n",
    "class Solution:\n",
    "    dp = collections.defaultdict(int)\n",
    "\n",
    "    def climbStairs(self, n: int) -> int:\n",
    "        if n <= 2:\n",
    "            return n\n",
    "        if self.dp[n]:\n",
    "            return self.dp[n]\n",
    "        self.dp[n] = self.climbStairs(n - 1) + self.climbStairs(n - 2)\n",
    "        return self.dp[n]"
   ]
  },
  {
   "attachments": {},
   "cell_type": "markdown",
   "metadata": {},
   "source": [
    "### leetcode70. Climbing Stairs\n",
    "\n",
    "\n",
    "You are climbing a staircase. It takes n steps to reach the top.\n",
    "\n",
    "Each time you can either climb 1 or 2 steps. In how many distinct ways can you climb to the top?\n",
    "***\n",
    "Example 1:\n",
    "\n",
    "Input: n = 2<br>\n",
    "Output: 2<br>\n",
    "Explanation: There are two ways to climb to the top.<br>\n",
    "1. 1 step + 1 step<br>\n",
    "2. 2 steps"
   ]
  },
  {
   "cell_type": "code",
   "execution_count": null,
   "metadata": {},
   "outputs": [],
   "source": [
    "class Solution:\n",
    "    def rob(self, nums: List[int]) -> int:\n",
    "        def _rob(i: int) -> int:\n",
    "            if i < 0:\n",
    "                return 0\n",
    "            return max(_rob(i - 1), _rob(i - 2) + nums[i])\n",
    "        return _rob(len(nums) - 1)"
   ]
  },
  {
   "cell_type": "code",
   "execution_count": null,
   "metadata": {},
   "outputs": [],
   "source": [
    "class Solution:\n",
    "    def rob(self, nums: List[int]) -> int:\n",
    "        if not nums:\n",
    "            return 0\n",
    "        if len(nums) <= 2:\n",
    "            return max(nums)\n",
    "        \n",
    "        dp = collections.OrderedDict()\n",
    "        dp[0], dp[1] = nums[0], max(nums[0], nums[1])\n",
    "\n",
    "        for i in range(2, len(nums)):\n",
    "            dp[i] = max(dp[i - 1], dp[i - 2] + nums[i])\n",
    "        return dp.popitem()[1]"
   ]
  }
 ],
 "metadata": {
  "kernelspec": {
   "display_name": "Python 3",
   "language": "python",
   "name": "python3"
  },
  "language_info": {
   "codemirror_mode": {
    "name": "ipython",
    "version": 3
   },
   "file_extension": ".py",
   "mimetype": "text/x-python",
   "name": "python",
   "nbconvert_exporter": "python",
   "pygments_lexer": "ipython3",
   "version": "3.10.2"
  },
  "orig_nbformat": 4,
  "vscode": {
   "interpreter": {
    "hash": "42d32b1e20b5f0f90a8678623a60d916f416705640fd2210905ba178817c6883"
   }
  }
 },
 "nbformat": 4,
 "nbformat_minor": 2
}
