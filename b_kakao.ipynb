{
 "cells": [
  {
   "attachments": {},
   "cell_type": "markdown",
   "metadata": {},
   "source": [
    "### programmers 비밀지도\n",
    "\n",
    "네오는 평소 프로도가 비상금을 숨겨놓는 장소를 알려줄 비밀지도를 손에 넣었다. 그런데 이 비밀지도는 숫자로 암호화되어 있어 위치를 확인하기 위해서는 암호를 해독해야 한다. 다행히 지도 암호를 해독할 방법을 적어놓은 메모도 함께 발견했다.\n",
    "\n",
    "1. 지도는 한 변의 길이가 n인 정사각형 배열 형태로, 각 칸은 \"공백\"(\" \") 또는 \"벽\"(\"#\") 두 종류로 이루어져 있다.\n",
    "\n",
    "2. 전체 지도는 두 장의 지도를 겹쳐서 얻을 수 있다. 각각 \"지도 1\"과 \"지도 2\"라고 하자. 지도 1 또는 지도 2 중 어느 하나라도 벽인 부분은 전체 지도에서도 벽이다. 지도 1과 지도 2에서 모두 공백인 부분은 전체 지도에서도 공백이다.\n",
    "\n",
    "3. \"지도 1\"과 \"지도 2\"는 각각 정수 배열로 암호화되어 있다.\n",
    "\n",
    "4. 암호화된 배열은 지도의 각 가로줄에서 벽 부분을 1, 공백 부분을 0으로 부호화했을 때 얻어지는 이진수에 해당하는 값의 배열이다."
   ]
  },
  {
   "cell_type": "code",
   "execution_count": null,
   "metadata": {},
   "outputs": [],
   "source": [
    "#내 풀이\n",
    "def solution(n, arr1, arr2):\n",
    "    answer = []\n",
    "    for i in range(n):\n",
    "        #파이썬에서 숫자를 출력하고자 하는데, 앞에 0을 붙여주고 싶을 때 해결 방법 zfill(n)\n",
    "        a = bin(arr1[i] | arr2[i])[2:].zfill(n)\n",
    "        new_a = a.replace('1', '#').replace('0', ' ')\n",
    "        answer.append(new_a)\n",
    "    return answer"
   ]
  },
  {
   "cell_type": "code",
   "execution_count": null,
   "metadata": {},
   "outputs": [],
   "source": [
    "#책 풀이\n",
    "def solution(n, arr1, arr2):\n",
    "    answer = []\n",
    "    for i in range(n):\n",
    "        answer.append(bin(arr1[i] | arr2[i])[2:]\n",
    "                      .zfill(n)\n",
    "                      .replace('1', '#')\n",
    "                      .replace('0', ' ')    \n",
    "        )\n",
    "    return answer"
   ]
  },
  {
   "attachments": {},
   "cell_type": "markdown",
   "metadata": {},
   "source": [
    "### programmers 다트 게임\n",
    "\n",
    "카카오톡 게임별의 하반기 신규 서비스로 다트 게임을 출시하기로 했다. 다트 게임은 다트판에 다트를 세 차례 던져 그 점수의 합계로 실력을 겨루는 게임으로, 모두가 간단히 즐길 수 있다.\n",
    "갓 입사한 무지는 코딩 실력을 인정받아 게임의 핵심 부분인 점수 계산 로직을 맡게 되었다. 다트 게임의 점수 계산 로직은 아래와 같다.\n",
    "\n",
    "1. 다트 게임은 총 3번의 기회로 구성된다.\n",
    "2. 각 기회마다 얻을 수 있는 점수는 0점에서 10점까지이다.\n",
    "3. 점수와 함께 Single(S), Double(D), Triple(T) 영역이 존재하고 각 영역 당첨 시 점수에서 1제곱, 2제곱, 3제곱 (점수1 , 점수2 , 점수3 )으로 계산된다.\n",
    "4. 옵션으로 스타상(*) , 아차상(#)이 존재하며 스타상(*) 당첨 시 해당 점수와 바로 전에 얻은 점수를 각 2배로 만든다. 아차상(#) 당첨 시 해당 점수는 마이너스된다.\n",
    "5. 스타상(*)은 첫 번째 기회에서도 나올 수 있다. 이 경우 첫 번째 스타상(*)의 점수만 2배가 된다. (예제 4번 참고)\n",
    "6. 스타상(*)의 효과는 다른 스타상(*)의 효과와 중첩될 수 있다. 이 경우 중첩된 스타상(*) 점수는 4배가 된다. (예제 4번 참고)\n",
    "7. 스타상(*)의 효과는 아차상(#)의 효과와 중첩될 수 있다. 이 경우 중첩된 아차상(#)의 점수는 -2배가 된다. (예제 5번 참고)\n",
    "8. Single(S), Double(D), Triple(T)은 점수마다 하나씩 존재한다.\n",
    "9. 스타상(*), 아차상(#)은 점수마다 둘 중 하나만 존재할 수 있으며, 존재하지 않을 수도 있다.\n",
    "\n",
    "0~10의 정수와 문자 S, D, T, *, #로 구성된 문자열이 입력될 시 총점수를 반환하는 함수를 작성하라."
   ]
  },
  {
   "cell_type": "code",
   "execution_count": null,
   "metadata": {},
   "outputs": [],
   "source": [
    "def solution(dartResult):\n",
    "    n = 0\n",
    "    result = []\n",
    "    for i in dartResult:\n",
    "        if i.isnumeric():\n",
    "            n += i\n",
    "        #SDT일때만 append\n",
    "        elif i == 'S':\n",
    "            n = int(n)**1\n",
    "            result.append(n)\n",
    "            n = 0\n",
    "        elif i == 'D':\n",
    "            n = int(n)**2\n",
    "            result.append(n)\n",
    "            n = 0\n",
    "        elif i == 'T':\n",
    "            n = int(n)**3\n",
    "            result.append(n)\n",
    "            n = 0\n",
    "        elif i == '*':\n",
    "            if len(result) > 1:\n",
    "                result[-2] = result[-2] * 2\n",
    "                result[-1] = result[-1] * 2\n",
    "            else:\n",
    "                result[-1] = result[-1] * 2\n",
    "        elif i == '#':\n",
    "            result[-1] = result[-1] * -1\n",
    "        \n",
    "    return sum(result)"
   ]
  },
  {
   "cell_type": "code",
   "execution_count": null,
   "metadata": {},
   "outputs": [],
   "source": [
    "def solution(dartResult):\n",
    "    nums = [0]\n",
    "    for i in dartResult:\n",
    "        if i == 'S':\n",
    "            nums[-1] **= 1\n",
    "            nums.append(0)\n",
    "        elif i == 'D':\n",
    "            nums[-1] **= 2\n",
    "            nums.append(0)\n",
    "        elif i == 'T':\n",
    "            nums[-1] **= 3\n",
    "            nums.append(0)\n",
    "        elif i == '*':\n",
    "            nums[-2] *= 2\n",
    "            if len(nums) > 2:\n",
    "                nums[-3] *= 2\n",
    "        elif i == '#':\n",
    "            nums[-2] *= -1\n",
    "        else:\n",
    "            nums[-1] = nums[-1] * 10 + int(i)\n",
    "        \n",
    "    return sum(nums)"
   ]
  },
  {
   "attachments": {},
   "cell_type": "markdown",
   "metadata": {},
   "source": [
    "### programmers 캐시\n",
    "\n",
    "지도개발팀에서 근무하는 제이지는 지도에서 도시 이름을 검색하면 해당 도시와 관련된 맛집 게시물들을 데이터베이스에서 읽어 보여주는 서비스를 개발하고 있다.\n",
    "이 프로그램의 테스팅 업무를 담당하고 있는 어피치는 서비스를 오픈하기 전 각 로직에 대한 성능 측정을 수행하였는데, 제이지가 작성한 부분 중 데이터베이스에서 게시물을 가져오는 부분의 실행시간이 너무 오래 걸린다는 것을 알게 되었다.\n",
    "어피치는 제이지에게 해당 로직을 개선하라고 닦달하기 시작하였고, 제이지는 DB 캐시를 적용하여 성능 개선을 시도하고 있지만 캐시 크기를 얼마로 해야 효율적인지 몰라 난감한 상황이다.\n",
    "\n",
    "어피치에게 시달리는 제이지를 도와, DB 캐시를 적용할 때 캐시 크기에 따른 실행시간 측정 프로그램을 작성하시오.\n",
    "\n",
    "<li>캐시 크기(cacheSize)와 도시이름 배열(cities)을 입력받는다.\n",
    "<li>cacheSize는 정수이며, 범위는 0 ≦ cacheSize ≦ 30 이다.\n",
    "<li>cities는 도시 이름으로 이뤄진 문자열 배열로, 최대 도시 수는 100,000개이다.\n",
    "<li>각 도시 이름은 공백, 숫자, 특수문자 등이 없는 영문자로 구성되며, 대소문자 구분을 하지 않는다. 도시 이름은 최대 20자로 이루어져 있다."
   ]
  },
  {
   "cell_type": "code",
   "execution_count": null,
   "metadata": {},
   "outputs": [],
   "source": [
    "import collections\n",
    "def solution(cacheSize, cities):\n",
    "    elapsed: int = 0\n",
    "    cache = collections.deque(maxlen = cacheSize)\n",
    "    for c in cities:\n",
    "        c = c.lower()\n",
    "        if c in cache:\n",
    "            cache.remove(c)\n",
    "            cache.append(c)\n",
    "            elapsed += 1\n",
    "        else:\n",
    "            cache.append(c)\n",
    "            elapsed += 5\n",
    "    return elapsed"
   ]
  }
 ],
 "metadata": {
  "kernelspec": {
   "display_name": "Python 3",
   "language": "python",
   "name": "python3"
  },
  "language_info": {
   "name": "python",
   "version": "3.10.2 (tags/v3.10.2:a58ebcc, Jan 17 2022, 14:12:15) [MSC v.1929 64 bit (AMD64)]"
  },
  "orig_nbformat": 4,
  "vscode": {
   "interpreter": {
    "hash": "42d32b1e20b5f0f90a8678623a60d916f416705640fd2210905ba178817c6883"
   }
  }
 },
 "nbformat": 4,
 "nbformat_minor": 2
}
