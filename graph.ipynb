{
 "cells": [
  {
   "cell_type": "markdown",
   "metadata": {},
   "source": [
    "## DFS(깊이 우선 탐색)"
   ]
  },
  {
   "cell_type": "code",
   "execution_count": null,
   "metadata": {},
   "outputs": [],
   "source": [
    "#재귀\n",
    "graph={\n",
    "    1:[2,3,4],\n",
    "    2:[5],\n",
    "    3:[5],\n",
    "    4:[],\n",
    "    5:[6,7],\n",
    "    6:[],\n",
    "    7:[3]\n",
    "}\n",
    "def recursive_dfs(v, discovered=[]):\n",
    "    discovered.append(v)\n",
    "    for w in graph[v]:\n",
    "        if w not in discovered:\n",
    "            discovered = recursive_dfs(w, discovered)\n",
    "    return discovered\n",
    "\n",
    "recursive_dfs(1)"
   ]
  },
  {
   "cell_type": "code",
   "execution_count": null,
   "metadata": {},
   "outputs": [],
   "source": [
    "#스택\n",
    "graph={\n",
    "    1:[2,3,4],\n",
    "    2:[5],\n",
    "    3:[5],\n",
    "    4:[],\n",
    "    5:[6,7],\n",
    "    6:[],\n",
    "    7:[3]\n",
    "}\n",
    "\n",
    "def iterative_dfs(start_v):\n",
    "    discovered = []\n",
    "    start = [start_v]\n",
    "    while start:\n",
    "        v = start.pop()\n",
    "        if v not in discovered:\n",
    "            discovered.append(v)\n",
    "            for w in graph[v]:\n",
    "                start.append(w)\n",
    "    return discovered\n",
    "\n",
    "iterative_dfs(1)"
   ]
  },
  {
   "cell_type": "markdown",
   "metadata": {},
   "source": [
    "## BFS(너비 우선 탐색)"
   ]
  },
  {
   "cell_type": "code",
   "execution_count": null,
   "metadata": {},
   "outputs": [],
   "source": [
    "#큐\n",
    "graph={\n",
    "    1:[2,3,4],\n",
    "    2:[5],\n",
    "    3:[5],\n",
    "    4:[],\n",
    "    5:[6,7],\n",
    "    6:[],\n",
    "    7:[3]\n",
    "}\n",
    "\n",
    "def iterative_bfs(start_v):\n",
    "    discovered  = [start_v]\n",
    "    queue = [start_v]\n",
    "    while queue:\n",
    "        v = queue.pop(0)\n",
    "        for w in graph[v]:\n",
    "            if w not in discovered:\n",
    "                discovered.append(w)\n",
    "                queue.append(w)\n",
    "    \n",
    "    return discovered\n",
    "                \n",
    "iterative_bfs(1)"
   ]
  },
  {
   "cell_type": "markdown",
   "metadata": {},
   "source": [
    "### leetcode200. Number of Islands\n",
    "\n",
    "\n",
    "Given an m x n 2D binary grid grid which represents a map of '1's (land) and '0's (water), return the number of islands.\n",
    "\n",
    "An island is surrounded by water and is formed by connecting adjacent lands horizontally or vertically. You may assume all four edges of the grid are all surrounded by water.\n",
    "***\n",
    "Example 1:\n",
    "\n",
    "Input: grid = [<br>\n",
    "  [\"1\",\"1\",\"1\",\"1\",\"0\"],<br>\n",
    "  [\"1\",\"1\",\"0\",\"1\",\"0\"],<br>\n",
    "  [\"1\",\"1\",\"0\",\"0\",\"0\"],<br>\n",
    "  [\"0\",\"0\",\"0\",\"0\",\"0\"]<br>\n",
    "]<br>\n",
    "Output: 1"
   ]
  },
  {
   "cell_type": "code",
   "execution_count": null,
   "metadata": {},
   "outputs": [],
   "source": [
    "class Solution:\n",
    "    def dfs(self, grid: List[List[str]], i: int, j: int):\n",
    "        if i < 0 or i >= len(grid) or \\\n",
    "            j < 0 or j >= len(grid[0]) or \\\n",
    "            grid[i][j] != '1':\n",
    "            return\n",
    "        \n",
    "        grid[i][j] = '#'\n",
    "        self.dfs(grid, i+1, j)\n",
    "        self.dfs(grid, i-1, j)\n",
    "        self.dfs(grid, i, j+1)\n",
    "        self.dfs(grid, i, j-1)\n",
    "        \n",
    "    def numIslands(self, grid: List[List[str]]) -> int:\n",
    "        if not grid:\n",
    "            return 0\n",
    "        \n",
    "        count = 0\n",
    "        for i in range(len(grid)):\n",
    "            for j in range(len(grid[0])):\n",
    "                if grid[i][j] == '1':\n",
    "                    self.dfs(grid, i, j)\n",
    "                    count += 1\n",
    "        return count"
   ]
  },
  {
   "cell_type": "code",
   "execution_count": null,
   "metadata": {},
   "outputs": [],
   "source": [
    "#중첩함수로 변형\n",
    "class Solution:\n",
    "    def numIslands(self, grid: List[List[str]]) -> int:\n",
    "        def dfs(i: int, j: int):\n",
    "            if i < 0 or i >= len(grid) or \\\n",
    "                j < 0 or j >= len(grid[0]) or \\\n",
    "                grid[i][j] != '1':\n",
    "                return\n",
    "            \n",
    "            grid[i][j] = '#'\n",
    "            dfs(i+1, j)\n",
    "            dfs(i-1, j)\n",
    "            dfs(i, j+1)\n",
    "            dfs(i, j-1)\n",
    "\n",
    "        if not grid:\n",
    "            return 0\n",
    "        \n",
    "        count = 0\n",
    "        for i in range(len(grid)):\n",
    "            for j in range(len(grid[0])):\n",
    "                if grid[i][j] == '1':\n",
    "                    dfs(i, j)\n",
    "                    count += 1\n",
    "        return count\n"
   ]
  },
  {
   "cell_type": "markdown",
   "metadata": {},
   "source": [
    "### leetcode17. Letter Combinations of a Phone Number\n",
    "\n",
    "\n",
    "Given a string containing digits from 2-9 inclusive, return all possible letter combinations that the number could represent. Return the answer in any order.\n",
    "\n",
    "A mapping of digits to letters (just like on the telephone buttons) is given below. Note that 1 does not map to any letters.\n",
    "***\n",
    "Example 1:\n",
    "\n",
    "Input: digits = \"23\"<br>\n",
    "Output: [\"ad\",\"ae\",\"af\",\"bd\",\"be\",\"bf\",\"cd\",\"ce\",\"cf\"]"
   ]
  },
  {
   "cell_type": "code",
   "execution_count": null,
   "metadata": {},
   "outputs": [],
   "source": [
    "class Solution:\n",
    "    def letterCombinations(self, digits: str) -> List[str]:\n",
    "        def dfs(index,path):\n",
    "            if len(path) == len(digits):\n",
    "                result.append(path)\n",
    "                return\n",
    "\n",
    "            for i in range(index, len(digits)):\n",
    "                for j in dic[digits[i]]:\n",
    "                    dfs(i + 1, path + j)\n",
    "    \n",
    "        if not digits:\n",
    "            return []\n",
    "        \n",
    "        dic={\"2\": \"abc\", \"3\": \"def\", \"4\": \"ghi\", \"5\": \"jkl\", \n",
    "        \"6\": \"mno\", \"7\": \"pqrs\", \"8\": \"tuv\", \"9\": \"wxyz\"}\n",
    "\n",
    "        result = []\n",
    "        dfs(0, \"\")\n",
    "\n",
    "        return result"
   ]
  },
  {
   "cell_type": "markdown",
   "metadata": {},
   "source": [
    "### leetcode46. Permutations\n",
    "\n",
    "\n",
    "Given an array nums of distinct integers, return all the possible permutations. You can return the answer in any order.\n",
    "***\n",
    "Example 1:\n",
    "\n",
    "Input: nums = [1,2,3]<br>\n",
    "Output: [[1,2,3],[1,3,2],[2,1,3],[2,3,1],[3,1,2],[3,2,1]]"
   ]
  },
  {
   "cell_type": "code",
   "execution_count": null,
   "metadata": {},
   "outputs": [],
   "source": [
    "class Solution:\n",
    "    def permute(self, nums: List[int]) -> List[List[int]]:\n",
    "        results=[]\n",
    "        prev_elements=[]\n",
    "\n",
    "        def dfs(elements):\n",
    "\n",
    "            if len(elements)==0:\n",
    "                results.append(prev_elements[:])\n",
    "            for e in elements:\n",
    "                next_elements = elements[:]\n",
    "                next_elements.remove(e)\n",
    "                prev_elements.append(e)\n",
    "\n",
    "                dfs(next_elements)\n",
    "                prev_elements.pop()\n",
    "\n",
    "        dfs(nums)\n",
    "\n",
    "        return results"
   ]
  },
  {
   "cell_type": "code",
   "execution_count": null,
   "metadata": {},
   "outputs": [],
   "source": [
    "#itertools모듈 사용\n",
    "import itertools\n",
    "class Solution:\n",
    "    def permute(self, nums: List[int]) -> List[List[int]]:\n",
    "        return list(itertools.permutations(nums))"
   ]
  },
  {
   "cell_type": "markdown",
   "metadata": {},
   "source": [
    "### leetcode77. Combinations\n",
    "\n",
    "\n",
    "Given two integers n and k, return all possible combinations of k numbers chosen from the range [1, n].\n",
    "\n",
    "You may return the answer in any order.\n",
    "***\n",
    "Example 1:\n",
    "\n",
    "Input: n = 4, k = 2<br>\n",
    "Output: [[1,2],[1,3],[1,4],[2,3],[2,4],[3,4]]<br>\n",
    "Explanation: There are 4 choose 2 = 6 total combinations.<br>\n",
    "Note that combinations are unordered, i.e., [1,2] and [2,1] are considered to be the same combination."
   ]
  },
  {
   "cell_type": "code",
   "execution_count": null,
   "metadata": {},
   "outputs": [],
   "source": [
    "class Solution:\n",
    "    def combine(self, n: int, k: int) -> List[List[int]]:\n",
    "        results=[]\n",
    "\n",
    "        def dfs(elements, start: int, k :int):\n",
    "            if k==0:\n",
    "                results.append(elements[:])\n",
    "                return\n",
    "            \n",
    "            for i in range(start, n+1):\n",
    "                elements.append(i)\n",
    "                dfs(elements, i + 1, k - 1)\n",
    "                elements.pop()\n",
    "        dfs([], 1, k)\n",
    "        return results"
   ]
  },
  {
   "cell_type": "code",
   "execution_count": null,
   "metadata": {},
   "outputs": [],
   "source": [
    "class Solution:\n",
    "    def combine(self, n: int, k: int) -> List[List[int]]:\n",
    "        return list(itertools.combinations(range(1,n+1),k))"
   ]
  },
  {
   "cell_type": "markdown",
   "metadata": {},
   "source": [
    "### leetcode39. Combination Sum\n",
    "\n",
    "\n",
    "Given an array of distinct integers candidates and a target integer target, return a list of all unique combinations of candidates where the chosen numbers sum to target. You may return the combinations in any order.\n",
    "\n",
    "The same number may be chosen from candidates an unlimited number of times. Two combinations are unique if the \n",
    "frequency\n",
    " of at least one of the chosen numbers is different.\n",
    "\n",
    "The test cases are generated such that the number of unique combinations that sum up to target is less than 150 combinations for the given input.\n",
    "***\n",
    "Example 1:\n",
    "\n",
    "Input: candidates = [2,3,6,7], target = 7<br>\n",
    "Output: [[2,2,3],[7]]<br>\n",
    "Explanation:<br>\n",
    "2 and 3 are candidates, and 2 + 2 + 3 = 7. Note that 2 can be used multiple times.<br>\n",
    "7 is a candidate, and 7 = 7.<br>\n",
    "These are the only two combinations."
   ]
  },
  {
   "cell_type": "code",
   "execution_count": null,
   "metadata": {},
   "outputs": [],
   "source": [
    "class Solution:\n",
    "    def combinationSum(self, candidates: List[int], target: int) -> List[List[int]]:\n",
    "        results=[]\n",
    "\n",
    "        def dfs(csum, index, path):\n",
    "            \n",
    "            if csum < 0 :\n",
    "                return\n",
    "            if csum == 0 :\n",
    "                results.append(path)\n",
    "\n",
    "            for i in range(index, len(candidates)):\n",
    "                dfs(csum - candidates[i], i, path + [candidates[i]])\n",
    "\n",
    "        dfs(target, 0, [])\n",
    "        return results"
   ]
  },
  {
   "cell_type": "markdown",
   "metadata": {},
   "source": [
    "### leetcode78. Subsets\n",
    "\n",
    "\n",
    "Given an integer array nums of unique elements, return all possible \n",
    "subsets(the power set).\n",
    "\n",
    "The solution set must not contain duplicate subsets. Return the solution in any order.\n",
    "***\n",
    "Example 1:\n",
    "\n",
    "Input: nums = [1,2,3]<br>\n",
    "Output: [[],[1],[2],[1,2],[3],[1,3],[2,3],[1,2,3]]"
   ]
  },
  {
   "cell_type": "code",
   "execution_count": null,
   "metadata": {},
   "outputs": [],
   "source": [
    "class Solution:\n",
    "    def subsets(self, nums: List[int]) -> List[List[int]]:\n",
    "        results =[]\n",
    "\n",
    "        def dfs(index, path):\n",
    "\n",
    "            results.append(path)\n",
    "\n",
    "            for i in range(index , len(nums)):\n",
    "                dfs(i+1, path+[nums[i]])\n",
    "        \n",
    "        dfs(0,[])\n",
    "        return results"
   ]
  },
  {
   "cell_type": "markdown",
   "metadata": {},
   "source": [
    "### leetcode332. Reconstruct Itinerary\n",
    "\n",
    "\n",
    "You are given a list of airline tickets where tickets[i] = [fromi, toi] represent the departure and the arrival airports of one flight. Reconstruct the itinerary in order and return it.\n",
    "\n",
    "All of the tickets belong to a man who departs from \"JFK\", thus, the itinerary must begin with \"JFK\". If there are multiple valid itineraries, you should return the itinerary that has the smallest lexical order when read as a single string.\n",
    "\n",
    "For example, the itinerary [\"JFK\", \"LGA\"] has a smaller lexical order than [\"JFK\", \"LGB\"].\n",
    "You may assume all tickets form at least one valid itinerary. You must use all the tickets once and only once.\n",
    "***\n",
    "Example 1:\n",
    "\n",
    "Input: tickets = [[\"MUC\",\"LHR\"],[\"JFK\",\"MUC\"],[\"SFO\",\"SJC\"],[\"LHR\",\"SFO\"]]<br>\n",
    "Output: [\"JFK\",\"MUC\",\"LHR\",\"SFO\",\"SJC\"]"
   ]
  },
  {
   "cell_type": "code",
   "execution_count": null,
   "metadata": {},
   "outputs": [],
   "source": [
    "class Solution:\n",
    "    def findItinerary(self, tickets: List[List[str]]) -> List[str]:\n",
    "        graph = collections.defaultdict(list)\n",
    "\n",
    "        for a,b in sorted(tickets):\n",
    "            graph[a].append(b)\n",
    "\n",
    "        route = []\n",
    "        def dfs(a):\n",
    "            while graph[a]:\n",
    "                dfs(graph[a].pop(0))\n",
    "            route.append(a)\n",
    "        \n",
    "        dfs(\"JFK\")\n",
    "\n",
    "        return route[::-1]\n"
   ]
  },
  {
   "cell_type": "code",
   "execution_count": null,
   "metadata": {},
   "outputs": [],
   "source": [
    "#정렬 역순처리\n",
    "class Solution:\n",
    "    def findItinerary(self, tickets: List[List[str]]) -> List[str]:\n",
    "        graph = collections.defaultdict(list)\n",
    "\n",
    "        for a,b in sorted(tickets, reverse = True):\n",
    "            graph[a].append(b)\n",
    "\n",
    "        route = []\n",
    "        def dfs(a):\n",
    "            while graph[a]:\n",
    "                dfs(graph[a].pop())\n",
    "            route.append(a)\n",
    "        \n",
    "        dfs(\"JFK\")\n",
    "\n",
    "        return route[::-1]"
   ]
  },
  {
   "cell_type": "code",
   "execution_count": null,
   "metadata": {},
   "outputs": [],
   "source": [
    "#스택풀이법 모르겠다\n",
    "class Solution:\n",
    "    def findItinerary(self, tickets: List[List[str]]) -> List[str]:\n",
    "        graph = collections.defaultdict(list)\n",
    "\n",
    "        for a,b in sorted(tickets):\n",
    "            graph[a].append(b)\n",
    "\n",
    "        route, stack = [], ['JFK']\n",
    "        while stack:\n",
    "            while graph[stack[-1]]:\n",
    "                stack.append(graph[stack[-1]].pop(0))\n",
    "            route.append(stack.pop())\n",
    "\n",
    "        return route[::-1]\n"
   ]
  }
 ],
 "metadata": {
  "kernelspec": {
   "display_name": "Python 3.10.2 64-bit",
   "language": "python",
   "name": "python3"
  },
  "language_info": {
   "codemirror_mode": {
    "name": "ipython",
    "version": 3
   },
   "file_extension": ".py",
   "mimetype": "text/x-python",
   "name": "python",
   "nbconvert_exporter": "python",
   "pygments_lexer": "ipython3",
   "version": "3.10.2"
  },
  "orig_nbformat": 4,
  "vscode": {
   "interpreter": {
    "hash": "42d32b1e20b5f0f90a8678623a60d916f416705640fd2210905ba178817c6883"
   }
  }
 },
 "nbformat": 4,
 "nbformat_minor": 2
}
