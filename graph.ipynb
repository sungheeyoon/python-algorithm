{
 "cells": [
  {
   "cell_type": "markdown",
   "metadata": {},
   "source": [
    "## DFS(깊이 우선 탐색)"
   ]
  },
  {
   "cell_type": "code",
   "execution_count": 1,
   "metadata": {},
   "outputs": [
    {
     "data": {
      "text/plain": [
       "[1, 2, 5, 6, 7, 3, 4]"
      ]
     },
     "execution_count": 1,
     "metadata": {},
     "output_type": "execute_result"
    }
   ],
   "source": [
    "#재귀\n",
    "graph={\n",
    "    1:[2,3,4],\n",
    "    2:[5],\n",
    "    3:[5],\n",
    "    4:[],\n",
    "    5:[6,7],\n",
    "    6:[],\n",
    "    7:[3]\n",
    "}\n",
    "def recursive_dfs(v, discovered=[]):\n",
    "    discovered.append(v)\n",
    "    for w in graph[v]:\n",
    "        if w not in discovered:\n",
    "            discovered = recursive_dfs(w, discovered)\n",
    "    return discovered\n",
    "\n",
    "recursive_dfs(1)"
   ]
  },
  {
   "cell_type": "code",
   "execution_count": 2,
   "metadata": {},
   "outputs": [
    {
     "data": {
      "text/plain": [
       "[1, 4, 3, 5, 7, 6, 2]"
      ]
     },
     "execution_count": 2,
     "metadata": {},
     "output_type": "execute_result"
    }
   ],
   "source": [
    "#스택\n",
    "graph={\n",
    "    1:[2,3,4],\n",
    "    2:[5],\n",
    "    3:[5],\n",
    "    4:[],\n",
    "    5:[6,7],\n",
    "    6:[],\n",
    "    7:[3]\n",
    "}\n",
    "\n",
    "def iterative_dfs(start_v):\n",
    "    discovered = []\n",
    "    start = [start_v]\n",
    "    while start:\n",
    "        v = start.pop()\n",
    "        if v not in discovered:\n",
    "            discovered.append(v)\n",
    "            for w in graph[v]:\n",
    "                start.append(w)\n",
    "    return discovered\n",
    "\n",
    "iterative_dfs(1)"
   ]
  },
  {
   "cell_type": "markdown",
   "metadata": {},
   "source": [
    "## BFS(너비 우선 탐색)"
   ]
  },
  {
   "cell_type": "code",
   "execution_count": 4,
   "metadata": {},
   "outputs": [
    {
     "data": {
      "text/plain": [
       "[1, 2, 3, 4, 5, 6, 7]"
      ]
     },
     "execution_count": 4,
     "metadata": {},
     "output_type": "execute_result"
    }
   ],
   "source": [
    "#큐\n",
    "graph={\n",
    "    1:[2,3,4],\n",
    "    2:[5],\n",
    "    3:[5],\n",
    "    4:[],\n",
    "    5:[6,7],\n",
    "    6:[],\n",
    "    7:[3]\n",
    "}\n",
    "\n",
    "def iterative_bfs(start_v):\n",
    "    discovered  = [start_v]\n",
    "    queue = [start_v]\n",
    "    while queue:\n",
    "        v = queue.pop(0)\n",
    "        for w in graph[v]:\n",
    "            if w not in discovered:\n",
    "                discovered.append(w)\n",
    "                queue.append(w)\n",
    "    \n",
    "    return discovered\n",
    "                \n",
    "iterative_bfs(1)"
   ]
  },
  {
   "cell_type": "markdown",
   "metadata": {},
   "source": [
    "### leetcode200. Number of Islands\n",
    "\n",
    "\n",
    "Given an m x n 2D binary grid grid which represents a map of '1's (land) and '0's (water), return the number of islands.\n",
    "\n",
    "An island is surrounded by water and is formed by connecting adjacent lands horizontally or vertically. You may assume all four edges of the grid are all surrounded by water.\n",
    "***\n",
    "Example 1:\n",
    "\n",
    "Input: grid = [<br>\n",
    "  [\"1\",\"1\",\"1\",\"1\",\"0\"],<br>\n",
    "  [\"1\",\"1\",\"0\",\"1\",\"0\"],<br>\n",
    "  [\"1\",\"1\",\"0\",\"0\",\"0\"],<br>\n",
    "  [\"0\",\"0\",\"0\",\"0\",\"0\"]<br>\n",
    "]<br>\n",
    "Output: 1"
   ]
  },
  {
   "cell_type": "code",
   "execution_count": null,
   "metadata": {},
   "outputs": [],
   "source": [
    "class Solution:\n",
    "    def dfs(self, grid: List[List[str]], i: int, j: int):\n",
    "        if i < 0 or i >= len(grid) or \\\n",
    "            j < 0 or j >= len(grid[0]) or \\\n",
    "            grid[i][j] != '1':\n",
    "            return\n",
    "        \n",
    "        grid[i][j] = '#'\n",
    "        self.dfs(grid, i+1, j)\n",
    "        self.dfs(grid, i-1, j)\n",
    "        self.dfs(grid, i, j+1)\n",
    "        self.dfs(grid, i, j-1)\n",
    "        \n",
    "    def numIslands(self, grid: List[List[str]]) -> int:\n",
    "        if not grid:\n",
    "            return 0\n",
    "        \n",
    "        count = 0\n",
    "        for i in range(len(grid)):\n",
    "            for j in range(len(grid[0])):\n",
    "                if grid[i][j] == '1':\n",
    "                    self.dfs(grid, i, j)\n",
    "                    count += 1\n",
    "        return count"
   ]
  },
  {
   "cell_type": "code",
   "execution_count": null,
   "metadata": {},
   "outputs": [],
   "source": [
    "#중첩함수로 변형\n",
    "class Solution:\n",
    "    def numIslands(self, grid: List[List[str]]) -> int:\n",
    "        def dfs(i: int, j: int):\n",
    "            if i < 0 or i >= len(grid) or \\\n",
    "                j < 0 or j >= len(grid[0]) or \\\n",
    "                grid[i][j] != '1':\n",
    "                return\n",
    "            \n",
    "            grid[i][j] = '#'\n",
    "            dfs(i+1, j)\n",
    "            dfs(i-1, j)\n",
    "            dfs(i, j+1)\n",
    "            dfs(i, j-1)\n",
    "\n",
    "        if not grid:\n",
    "            return 0\n",
    "        \n",
    "        count = 0\n",
    "        for i in range(len(grid)):\n",
    "            for j in range(len(grid[0])):\n",
    "                if grid[i][j] == '1':\n",
    "                    dfs(i, j)\n",
    "                    count += 1\n",
    "        return count\n"
   ]
  },
  {
   "cell_type": "markdown",
   "metadata": {},
   "source": [
    "### leetcode17. Letter Combinations of a Phone Number\n",
    "\n",
    "\n",
    "Given a string containing digits from 2-9 inclusive, return all possible letter combinations that the number could represent. Return the answer in any order.\n",
    "\n",
    "A mapping of digits to letters (just like on the telephone buttons) is given below. Note that 1 does not map to any letters.\n",
    "***\n",
    "Example 1:\n",
    "\n",
    "Input: digits = \"23\"<br>\n",
    "Output: [\"ad\",\"ae\",\"af\",\"bd\",\"be\",\"bf\",\"cd\",\"ce\",\"cf\"]"
   ]
  },
  {
   "cell_type": "code",
   "execution_count": null,
   "metadata": {},
   "outputs": [],
   "source": [
    "class Solution:\n",
    "    def letterCombinations(self, digits: str) -> List[str]:\n",
    "        def dfs(index,path):\n",
    "            if len(path) == len(digits):\n",
    "                result.append(path)\n",
    "                return\n",
    "\n",
    "            for i in range(index, len(digits)):\n",
    "                for j in dic[digits[i]]:\n",
    "                    dfs(i + 1, path + j)\n",
    "    \n",
    "        if not digits:\n",
    "            return []\n",
    "        \n",
    "        dic={\"2\": \"abc\", \"3\": \"def\", \"4\": \"ghi\", \"5\": \"jkl\", \n",
    "        \"6\": \"mno\", \"7\": \"pqrs\", \"8\": \"tuv\", \"9\": \"wxyz\"}\n",
    "\n",
    "        result = []\n",
    "        dfs(0, \"\")\n",
    "\n",
    "        return result"
   ]
  },
  {
   "cell_type": "markdown",
   "metadata": {},
   "source": [
    "### leetcode46. Permutations\n",
    "\n",
    "\n",
    "Given an array nums of distinct integers, return all the possible permutations. You can return the answer in any order.\n",
    "***\n",
    "Example 1:\n",
    "\n",
    "Input: nums = [1,2,3]<br>\n",
    "Output: [[1,2,3],[1,3,2],[2,1,3],[2,3,1],[3,1,2],[3,2,1]]"
   ]
  },
  {
   "cell_type": "code",
   "execution_count": null,
   "metadata": {},
   "outputs": [],
   "source": [
    "class Solution:\n",
    "    def permute(self, nums: List[int]) -> List[List[int]]:\n",
    "        results=[]\n",
    "        prev_elements=[]\n",
    "\n",
    "        def dfs(elements):\n",
    "\n",
    "            if len(elements)==0:\n",
    "                results.append(prev_elements[:])\n",
    "            for e in elements:\n",
    "                next_elements = elements[:]\n",
    "                next_elements.remove(e)\n",
    "                prev_elements.append(e)\n",
    "\n",
    "                dfs(next_elements)\n",
    "                prev_elements.pop()\n",
    "\n",
    "        dfs(nums)\n",
    "\n",
    "        return results"
   ]
  },
  {
   "cell_type": "code",
   "execution_count": null,
   "metadata": {},
   "outputs": [],
   "source": [
    "#itertools모듈 사용\n",
    "import itertools\n",
    "class Solution:\n",
    "    def permute(self, nums: List[int]) -> List[List[int]]:\n",
    "        return list(itertools.permutations(nums))"
   ]
  },
  {
   "cell_type": "markdown",
   "metadata": {},
   "source": [
    "### leetcode77. Combinations\n",
    "\n",
    "\n",
    "Given two integers n and k, return all possible combinations of k numbers chosen from the range [1, n].\n",
    "\n",
    "You may return the answer in any order.\n",
    "***\n",
    "Example 1:\n",
    "\n",
    "Input: n = 4, k = 2<br>\n",
    "Output: [[1,2],[1,3],[1,4],[2,3],[2,4],[3,4]]<br>\n",
    "Explanation: There are 4 choose 2 = 6 total combinations.<br>\n",
    "Note that combinations are unordered, i.e., [1,2] and [2,1] are considered to be the same combination."
   ]
  },
  {
   "cell_type": "code",
   "execution_count": null,
   "metadata": {},
   "outputs": [],
   "source": [
    "class Solution:\n",
    "    def combine(self, n: int, k: int) -> List[List[int]]:\n",
    "        results=[]\n",
    "\n",
    "        def dfs(elements, start: int, k :int):\n",
    "            if k==0:\n",
    "                results.append(elements[:])\n",
    "                return\n",
    "            \n",
    "            for i in range(start, n+1):\n",
    "                elements.append(i)\n",
    "                dfs(elements, i + 1, k - 1)\n",
    "                elements.pop()\n",
    "        dfs([], 1, k)\n",
    "        return results"
   ]
  },
  {
   "cell_type": "code",
   "execution_count": null,
   "metadata": {},
   "outputs": [],
   "source": [
    "class Solution:\n",
    "    def combine(self, n: int, k: int) -> List[List[int]]:\n",
    "        return list(itertools.combinations(range(1,n+1),k))"
   ]
  }
 ],
 "metadata": {
  "kernelspec": {
   "display_name": "Python 3.10.2 64-bit",
   "language": "python",
   "name": "python3"
  },
  "language_info": {
   "codemirror_mode": {
    "name": "ipython",
    "version": 3
   },
   "file_extension": ".py",
   "mimetype": "text/x-python",
   "name": "python",
   "nbconvert_exporter": "python",
   "pygments_lexer": "ipython3",
   "version": "3.10.2"
  },
  "orig_nbformat": 4,
  "vscode": {
   "interpreter": {
    "hash": "42d32b1e20b5f0f90a8678623a60d916f416705640fd2210905ba178817c6883"
   }
  }
 },
 "nbformat": 4,
 "nbformat_minor": 2
}
