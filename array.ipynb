{
 "cells": [
  {
   "cell_type": "markdown",
   "metadata": {},
   "source": [
    "### leetcode1. Two Sum\n",
    "\n",
    "Given an array of integers nums and an integer target, return indices of the two numbers such that they add up to target.\n",
    "\n",
    "You may assume that each input would have exactly one solution, and you may not use the same element twice.\n",
    "\n",
    "You can return the answer in any order.\n",
    "***\n",
    "Example 1:\n",
    "\n",
    "Input: nums = [2,7,11,15], target = 9\n",
    "\n",
    "Output: [0,1]"
   ]
  },
  {
   "cell_type": "code",
   "execution_count": null,
   "metadata": {},
   "outputs": [],
   "source": [
    "#Brute-Force\n",
    "from typing import List\n",
    "\n",
    "def twoSum(nums: List[int], target: int) -> List[int]:\n",
    "        for i in range(len(nums)):\n",
    "            for j in range(i+1,len(nums)):\n",
    "                if nums[i]+nums[j]==target:\n",
    "                    return [i,j]"
   ]
  },
  {
   "cell_type": "code",
   "execution_count": null,
   "metadata": {},
   "outputs": [],
   "source": [
    "#내 풀이\n",
    "#중복을 처리하지못한다.\n",
    "from typing import List\n",
    "\n",
    "def twoSum(nums: List[int], target: int) -> List[int]:\n",
    "    hash_map={}\n",
    "    for idx,num in enumerate(nums):\n",
    "        hash_map[num]=idx\n",
    "    for idx,num in enumerate(nums):\n",
    "        if hash_map[target-num]:\n",
    "            return[idx,target-num]"
   ]
  },
  {
   "cell_type": "code",
   "execution_count": 2,
   "metadata": {},
   "outputs": [
    {
     "name": "stdout",
     "output_type": "stream",
     "text": [
      "{2: 0, 5: 2, 10: 3}\n"
     ]
    }
   ],
   "source": [
    "def twoSum(nums: List[int], target: int) -> List[int]:\n",
    "    hash_map={}\n",
    "    for idx,num in enumerate(nums):\n",
    "        hash_map[num]=idx\n",
    "    for idx,num in enumerate(nums):\n",
    "        if target-num in hash_map and idx !=hash_map[target-num]:\n",
    "            return[idx,hash_map[target-num]]"
   ]
  },
  {
   "cell_type": "markdown",
   "metadata": {},
   "source": [
    "### leetcode42. Trapping Rain Water\n",
    "\n",
    "\n",
    "Given n non-negative integers representing an elevation map where the width of each bar is 1, compute how much water it can trap after raining.\n",
    "***\n",
    "Example 1:\n",
    "\n",
    "![rainwatertrap](img/rainwatertrap.png)\n",
    "\n",
    "Input: height = [0,1,0,2,1,0,1,3,2,1,2,1]\n",
    "\n",
    "Output: 6\n",
    "\n",
    "Explanation: The above elevation map (black section) is represented by array [0,1,0,2,1,0,1,3,2,1,2,1]. In this case, 6 units of rain water (blue section) are being trapped."
   ]
  },
  {
   "cell_type": "code",
   "execution_count": null,
   "metadata": {},
   "outputs": [],
   "source": [
    "#투포인터\n",
    "def trap(height: List[int]) -> int:\n",
    "        if not height:\n",
    "            return 0\n",
    "        left ,right = 0, len(height)-1\n",
    "        left_max, right_max = height[left],height[right]\n",
    "        volume = 0\n",
    "        while left<right:\n",
    "            left_max = max(left_max,height[left])\n",
    "            right_max = max(right_max,height[right])\n",
    "\n",
    "            if left_max>=right_max:\n",
    "                volume += right_max-height[right]\n",
    "                right-=1\n",
    "            else:\n",
    "                volume += left_max-height[left]\n",
    "                left+=1\n",
    "        return volume"
   ]
  },
  {
   "cell_type": "code",
   "execution_count": null,
   "metadata": {},
   "outputs": [],
   "source": [
    "#스택풀이 ..모르겠다.\n",
    "def trap(height: List[int]) -> int:\n",
    "        stack=[]\n",
    "        volume=0\n",
    "\n",
    "        for i in range(len(height)):\n",
    "            while stack and height[stack[-1]] < height[i]:\n",
    "                top = stack.pop()\n",
    "                if not len(stack):\n",
    "                    break\n",
    "                \n",
    "                distance = i - stack[-1] -1\n",
    "                waters = min(height[i],height[stack[-1]])-height[top]\n",
    "\n",
    "                volume += distance*waters\n",
    "            stack.append(i)\n",
    "        return volume"
   ]
  },
  {
   "cell_type": "markdown",
   "metadata": {},
   "source": [
    "### leetcode15. 3Sum\n",
    "\n",
    "\n",
    "Given an integer array nums, return all the triplets [nums[i], nums[j], nums[k]] such that i != j, i != k, and j != k, and nums[i] + nums[j] + nums[k] == 0.\n",
    "\n",
    "Notice that the solution set must not contain duplicate triplets.\n",
    "***\n",
    "Example 1:\n",
    "\n",
    "Input: nums = [-1,0,1,2,-1,-4]\n",
    "\n",
    "Output: [[-1,-1,2],[-1,0,1]]"
   ]
  },
  {
   "cell_type": "code",
   "execution_count": null,
   "metadata": {},
   "outputs": [],
   "source": [
    "#투포인터\n",
    "def threeSum(nums: List[int]) -> List[List[int]]:\n",
    "        result=[]\n",
    "        nums.sort()\n",
    "\n",
    "        for i in range(len(nums)-2):\n",
    "            if i>0 and nums[i]==nums[i-1]:\n",
    "                continue\n",
    "            left,right = i+1,len(nums)-1\n",
    "            while left<right:\n",
    "                sum = nums[i]+nums[left]+nums[right]\n",
    "                if sum>0:\n",
    "                    right-=1\n",
    "                elif sum<0:\n",
    "                    left+=1\n",
    "                else:\n",
    "                    result.append([nums[i],nums[left],nums[right]])\n",
    "\n",
    "                    while left<right and nums[left]==nums[left+1]:\n",
    "                        left+=1\n",
    "                    while left<right and nums[right]==nums[right-1]:\n",
    "                        right-=1\n",
    "                    left+=1\n",
    "                    right-=1\n",
    "        return result"
   ]
  },
  {
   "cell_type": "markdown",
   "metadata": {},
   "source": [
    "### leetcode561. Array Partition\n",
    "\n",
    "\n",
    "Given an integer array nums of 2n integers, group these integers into n pairs (a1, b1), (a2, b2), ..., \n",
    "(an, bn) such that the sum of min(ai, bi) for all i is maximized. Return the maximized sum.\n",
    "***\n",
    "Example 1:\n",
    "\n",
    "Input: nums = [1,4,3,2]\n",
    "\n",
    "Output: 4\n",
    "\n",
    "Explanation: All possible pairings (ignoring the ordering of elements) are:\n",
    "1. (1, 4), (2, 3) -> min(1, 4) + min(2, 3) = 1 + 2 = 3\n",
    "2. (1, 3), (2, 4) -> min(1, 3) + min(2, 4) = 1 + 2 = 3\n",
    "3. (1, 2), (3, 4) -> min(1, 2) + min(3, 4) = 1 + 3 = 4\n",
    "So the maximum possible sum is 4."
   ]
  },
  {
   "cell_type": "code",
   "execution_count": null,
   "metadata": {},
   "outputs": [],
   "source": [
    "def arrayPairSum(nums: List[int]) -> int:        \n",
    "        return sum(sorted(nums)[::2])"
   ]
  },
  {
   "cell_type": "markdown",
   "metadata": {},
   "source": [
    "### leetcode238. Product of Array Except Self\n",
    "\n",
    "\n",
    "Given an integer array nums, return an array answer such that answer[i] is equal to the product of all the elements of nums except nums[i].\n",
    "\n",
    "The product of any prefix or suffix of nums is guaranteed to fit in a 32-bit integer.\n",
    "\n",
    "You must write an algorithm that runs in O(n) time and without using the division operation.\n",
    "***\n",
    "Example 1:\n",
    "\n",
    "Input: nums = [1,2,3,4]\n",
    "\n",
    "Output: [24,12,8,6]"
   ]
  },
  {
   "cell_type": "code",
   "execution_count": null,
   "metadata": {},
   "outputs": [],
   "source": [
    "def productExceptSelf(nums: List[int]) -> List[int]:\n",
    "        out = []\n",
    "        p=1\n",
    "\n",
    "        for i in range(len(nums)):\n",
    "            out.append(p)\n",
    "            p=p*nums[i]\n",
    "        \n",
    "        p=1\n",
    "\n",
    "        for i in range(len(nums)-1,0-1,-1):\n",
    "            out[i]= out[i]*p\n",
    "            p=p*nums[i]\n",
    "        \n",
    "        return out"
   ]
  },
  {
   "cell_type": "markdown",
   "metadata": {},
   "source": [
    "### leetcode121. Best Time to Buy and Sell Stock\n",
    "\n",
    "\n",
    "You are given an array prices where prices[i] is the price of a given stock on the ith day.\n",
    "\n",
    "You want to maximize your profit by choosing a single day to buy one stock and choosing a different day in the future to sell that stock.\n",
    "\n",
    "Return the maximum profit you can achieve from this transaction. If you cannot achieve any profit, return 0.\n",
    "***\n",
    "Example 1:\n",
    "\n",
    "Input: prices = [7,1,5,3,6,4]\n",
    "\n",
    "Output: 5\n",
    "\n",
    "Explanation: Buy on day 2 (price = 1) and sell on day 5 (price = 6), profit = 6-1 = 5.<br>\n",
    "Note that buying on day 2 and selling on day 1 is not allowed because you must buy before you sell."
   ]
  },
  {
   "cell_type": "code",
   "execution_count": null,
   "metadata": {},
   "outputs": [],
   "source": [
    "import sys\n",
    "\n",
    "def maxProfit(prices: List[int]) -> int:\n",
    "        profit=0\n",
    "        min_price=sys.maxsize\n",
    "\n",
    "        for price in prices:\n",
    "            min_price=min(price,min_price)\n",
    "            profit=max(price-min_price,profit)\n",
    "        return profit"
   ]
  }
 ],
 "metadata": {
  "kernelspec": {
   "display_name": "Python 3.10.2 64-bit",
   "language": "python",
   "name": "python3"
  },
  "language_info": {
   "codemirror_mode": {
    "name": "ipython",
    "version": 3
   },
   "file_extension": ".py",
   "mimetype": "text/x-python",
   "name": "python",
   "nbconvert_exporter": "python",
   "pygments_lexer": "ipython3",
   "version": "3.10.2"
  },
  "orig_nbformat": 4,
  "vscode": {
   "interpreter": {
    "hash": "42d32b1e20b5f0f90a8678623a60d916f416705640fd2210905ba178817c6883"
   }
  }
 },
 "nbformat": 4,
 "nbformat_minor": 2
}
