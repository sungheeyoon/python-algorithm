{
 "cells": [
  {
   "cell_type": "markdown",
   "metadata": {},
   "source": [
    "### leetcode1. Two Sum\n",
    "\n",
    "Given an array of integers nums and an integer target, return indices of the two numbers such that they add up to target.\n",
    "\n",
    "You may assume that each input would have exactly one solution, and you may not use the same element twice.\n",
    "\n",
    "You can return the answer in any order.\n",
    "***\n",
    "Example 1:\n",
    "\n",
    "Input: nums = [2,7,11,15], target = 9\n",
    "\n",
    "Output: [0,1]"
   ]
  },
  {
   "cell_type": "code",
   "execution_count": null,
   "metadata": {},
   "outputs": [],
   "source": [
    "#Brute-Force\n",
    "from typing import List\n",
    "\n",
    "def twoSum(nums: List[int], target: int) -> List[int]:\n",
    "        for i in range(len(nums)):\n",
    "            for j in range(i+1,len(nums)):\n",
    "                if nums[i]+nums[j]==target:\n",
    "                    return [i,j]"
   ]
  },
  {
   "cell_type": "code",
   "execution_count": null,
   "metadata": {},
   "outputs": [],
   "source": [
    "#내 풀이\n",
    "#중복을 처리하지못한다.\n",
    "from typing import List\n",
    "\n",
    "def twoSum(nums: List[int], target: int) -> List[int]:\n",
    "    hash_map={}\n",
    "    for idx,num in enumerate(nums):\n",
    "        hash_map[num]=idx\n",
    "    for idx,num in enumerate(nums):\n",
    "        if hash_map[target-num]:\n",
    "            return[idx,target-num]"
   ]
  },
  {
   "cell_type": "code",
   "execution_count": 2,
   "metadata": {},
   "outputs": [
    {
     "name": "stdout",
     "output_type": "stream",
     "text": [
      "{2: 0, 5: 2, 10: 3}\n"
     ]
    }
   ],
   "source": [
    "def twoSum(nums: List[int], target: int) -> List[int]:\n",
    "    hash_map={}\n",
    "    for idx,num in enumerate(nums):\n",
    "        hash_map[num]=idx\n",
    "    for idx,num in enumerate(nums):\n",
    "        if target-num in hash_map and idx !=hash_map[target-num]:\n",
    "            return[idx,hash_map[target-num]]"
   ]
  },
  {
   "cell_type": "markdown",
   "metadata": {},
   "source": [
    "### leetcode42. Trapping Rain Water\n",
    "\n",
    "\n",
    "Given n non-negative integers representing an elevation map where the width of each bar is 1, compute how much water it can trap after raining.\n",
    "***\n",
    "Example 1:\n",
    "\n",
    "![rainwatertrap](img/rainwatertrap.png)\n",
    "\n",
    "Input: height = [0,1,0,2,1,0,1,3,2,1,2,1]\n",
    "\n",
    "Output: 6\n",
    "\n",
    "Explanation: The above elevation map (black section) is represented by array [0,1,0,2,1,0,1,3,2,1,2,1]. In this case, 6 units of rain water (blue section) are being trapped."
   ]
  },
  {
   "cell_type": "code",
   "execution_count": null,
   "metadata": {},
   "outputs": [],
   "source": [
    "#투포인터\n",
    "def trap(height: List[int]) -> int:\n",
    "        if not height:\n",
    "            return 0\n",
    "        left ,right = 0, len(height)-1\n",
    "        left_max, right_max = height[left],height[right]\n",
    "        volume = 0\n",
    "        while left<right:\n",
    "            left_max = max(left_max,height[left])\n",
    "            right_max = max(right_max,height[right])\n",
    "\n",
    "            if left_max>=right_max:\n",
    "                volume += right_max-height[right]\n",
    "                right-=1\n",
    "            else:\n",
    "                volume += left_max-height[left]\n",
    "                left+=1\n",
    "        return volume"
   ]
  },
  {
   "cell_type": "code",
   "execution_count": null,
   "metadata": {},
   "outputs": [],
   "source": [
    "#스택풀이 ..모르겠다.\n",
    "def trap(height: List[int]) -> int:\n",
    "        stack=[]\n",
    "        volume=0\n",
    "\n",
    "        for i in range(len(height)):\n",
    "            while stack and height[stack[-1]] < height[i]:\n",
    "                top = stack.pop()\n",
    "                if not len(stack):\n",
    "                    break\n",
    "                \n",
    "                distance = i - stack[-1] -1\n",
    "                waters = min(height[i],height[stack[-1]])-height[top]\n",
    "\n",
    "                volume += distance*waters\n",
    "            stack.append(i)\n",
    "        return volume"
   ]
  }
 ],
 "metadata": {
  "kernelspec": {
   "display_name": "Python 3.10.2 64-bit",
   "language": "python",
   "name": "python3"
  },
  "language_info": {
   "codemirror_mode": {
    "name": "ipython",
    "version": 3
   },
   "file_extension": ".py",
   "mimetype": "text/x-python",
   "name": "python",
   "nbconvert_exporter": "python",
   "pygments_lexer": "ipython3",
   "version": "3.10.2"
  },
  "orig_nbformat": 4,
  "vscode": {
   "interpreter": {
    "hash": "42d32b1e20b5f0f90a8678623a60d916f416705640fd2210905ba178817c6883"
   }
  }
 },
 "nbformat": 4,
 "nbformat_minor": 2
}
