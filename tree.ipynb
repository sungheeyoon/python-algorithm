{
 "cells": [
  {
   "cell_type": "markdown",
   "metadata": {},
   "source": [
    "### leetcode104. Maximum Depth of Binary Tree\n",
    "\n",
    "Given the root of a binary tree, return its maximum depth.\n",
    "\n",
    "A binary tree's maximum depth is the number of nodes along the longest path from the root node down to the farthest leaf node.\n",
    "\n",
    "\n",
    "***\n",
    "Example 1:\n",
    "\n",
    "Input: root = [3,9,20,null,null,15,7]<br>\n",
    "Output: 3"
   ]
  },
  {
   "cell_type": "code",
   "execution_count": null,
   "metadata": {},
   "outputs": [],
   "source": [
    "# Definition for a binary tree node.\n",
    "# class TreeNode:\n",
    "#     def __init__(self, val=0, left=None, right=None):\n",
    "#         self.val = val\n",
    "#         self.left = left\n",
    "#         self.right = right\n",
    "class Solution:\n",
    "    def maxDepth(self, root: Optional[TreeNode]) -> int:\n",
    "        if root is None:\n",
    "            return 0\n",
    "        queue = collections.deque([root])\n",
    "        depth = 0\n",
    "\n",
    "        while queue:\n",
    "            depth += 1\n",
    "\n",
    "            for _ in range(len(queue)):\n",
    "                cur_root = queue.popleft()\n",
    "                if cur_root.left:\n",
    "                    queue.append(cur_root.left)\n",
    "                if cur_root.right:\n",
    "                    queue.append(cur_root.right)\n",
    "        return depth"
   ]
  },
  {
   "cell_type": "markdown",
   "metadata": {},
   "source": [
    "### leetcode543. Diameter of Binary Tree\n",
    "\n",
    "Given the root of a binary tree, return the length of the diameter of the tree.\n",
    "\n",
    "The diameter of a binary tree is the length of the longest path between any two nodes in a tree. This path may or may not pass through the root.\n",
    "\n",
    "The length of a path between two nodes is represented by the number of edges between them.\n",
    "\n",
    "\n",
    "***\n",
    "Example 1:\n",
    "\n",
    "Input: root = [1,2,3,4,5]<br>\n",
    "Output: 3<br>\n",
    "Explanation: 3 is the length of the path [4,2,1,3] or [5,2,1,3]."
   ]
  },
  {
   "cell_type": "code",
   "execution_count": null,
   "metadata": {},
   "outputs": [],
   "source": [
    "# Definition for a binary tree node.\n",
    "# class TreeNode:\n",
    "#     def __init__(self, val=0, left=None, right=None):\n",
    "#         self.val = val\n",
    "#         self.left = left\n",
    "#         self.right = right\n",
    "class Solution:\n",
    "    longest:int = 0\n",
    "    def diameterOfBinaryTree(self, root: Optional[TreeNode]) -> int:\n",
    "        def dfs(node: TreeNode) -> int:\n",
    "            if not node:\n",
    "                return -1\n",
    "            \n",
    "            left = dfs(node.left)\n",
    "            right = dfs(node.right)\n",
    "\n",
    "            self.longest = max(self.longest, left + right + 2)\n",
    "            return max(left, right) + 1\n",
    "        \n",
    "        dfs(root)\n",
    "        return self.longest"
   ]
  },
  {
   "cell_type": "markdown",
   "metadata": {},
   "source": [
    "### leetcode687. Longest Univalue Path\n",
    "\n",
    "Given the root of a binary tree, return the length of the longest path, where each node in the path has the same value. This path may or may not pass through the root.\n",
    "\n",
    "The length of the path between two nodes is represented by the number of edges between them.\n",
    "\n",
    "\n",
    "***\n",
    "Example 1:\n",
    "\n",
    "Input: root = [5,4,5,1,1,null,5]<br>\n",
    "Output: 2<br>\n",
    "Explanation: The shown image shows that the longest path of the same value (i.e. 5)."
   ]
  },
  {
   "cell_type": "code",
   "execution_count": null,
   "metadata": {},
   "outputs": [],
   "source": [
    "# Definition for a binary tree node.\n",
    "# class TreeNode:\n",
    "#     def __init__(self, val=0, left=None, right=None):\n",
    "#         self.val = val\n",
    "#         self.left = left\n",
    "#         self.right = right\n",
    "class Solution:\n",
    "    result: int = 0\n",
    "\n",
    "    def longestUnivaluePath(self, root: Optional[TreeNode]) -> int:\n",
    "        def dfs(node: TreeNode):\n",
    "            if node is None:\n",
    "                return 0\n",
    "\n",
    "            left = dfs(node.left)\n",
    "            right = dfs(node.right)\n",
    "\n",
    "            if node.left and node.val == node.left.val:\n",
    "                left += 1\n",
    "            else:\n",
    "                left = 0\n",
    "            if node.right and node.val == node.right.val:\n",
    "                right += 1\n",
    "            else:\n",
    "                right = 0\n",
    "            \n",
    "            self.result = max(self.result, left+right)\n",
    "            return max(left, right)\n",
    "\n",
    "        dfs(root)\n",
    "        return self.result"
   ]
  },
  {
   "cell_type": "markdown",
   "metadata": {},
   "source": [
    "### leetcode226. Invert Binary Tree\n",
    "\n",
    "Given the root of a binary tree, invert the tree, and return its root.\n",
    "\n",
    "\n",
    "***\n",
    "Example 1:\n",
    "\n",
    "Input: root = [4,2,7,1,3,6,9]<br>\n",
    "Output: [4,7,2,9,6,3,1]"
   ]
  },
  {
   "cell_type": "code",
   "execution_count": null,
   "metadata": {},
   "outputs": [],
   "source": [
    "#리프노드부터 스왑\n",
    "class Solution:\n",
    "    def invertTree(self, root: Optional[TreeNode]) -> Optional[TreeNode]:\n",
    "        if root:\n",
    "            root.left , root.right = self.invertTree(root.right), self.invertTree(root.left)\n",
    "            return root\n",
    "        return None"
   ]
  },
  {
   "cell_type": "code",
   "execution_count": null,
   "metadata": {},
   "outputs": [],
   "source": [
    "#반복구조 BFS\n",
    "#부모노드부터 스왑\n",
    "class Solution:\n",
    "    def invertTree(self, root: Optional[TreeNode]) -> Optional[TreeNode]:\n",
    "        queue = collections.deque([root])\n",
    "\n",
    "        while queue:\n",
    "            node = queue.popleft()\n",
    "            if node:\n",
    "                node.left, node.right = node.right, node.left\n",
    "                queue.append(node.left)\n",
    "                queue.append(node.right)\n",
    "        \n",
    "        return root"
   ]
  },
  {
   "cell_type": "code",
   "execution_count": null,
   "metadata": {},
   "outputs": [],
   "source": [
    "#반복구조 DFS\n",
    "#queue의 popleft() 방식에서  stack.pop()으로 변경\n",
    "class Solution:\n",
    "    def invertTree(self, root: Optional[TreeNode]) -> Optional[TreeNode]:\n",
    "        stack = collections.deque([root])\n",
    "\n",
    "        while stack:\n",
    "            node = stack.pop()\n",
    "            if node:\n",
    "                #순서를 바꿔 후위 순회로도 가능하다.\n",
    "                node.left, node.right = node.right, node.left\n",
    "                \n",
    "                stack.append(node.left)\n",
    "                stack.append(node.right)\n",
    "        \n",
    "        return root"
   ]
  },
  {
   "cell_type": "markdown",
   "metadata": {},
   "source": [
    "### leetcode617. Merge Two Binary Trees\n",
    "\n",
    "You are given two binary trees root1 and root2.\n",
    "\n",
    "Imagine that when you put one of them to cover the other, some nodes of the two trees are overlapped while the others are not. You need to merge the two trees into a new binary tree. The merge rule is that if two nodes overlap, then sum node values up as the new value of the merged node. Otherwise, the NOT null node will be used as the node of the new tree.\n",
    "\n",
    "\n",
    "***\n",
    "Example 1:\n",
    "\n",
    "Input: root1 = [1,3,2,5], root2 = [2,1,3,null,4,null,7]<br>\n",
    "Output: [3,4,5,5,4,null,7]"
   ]
  },
  {
   "cell_type": "code",
   "execution_count": null,
   "metadata": {},
   "outputs": [],
   "source": [
    "class Solution:\n",
    "    def mergeTrees(self, root1: Optional[TreeNode], root2: Optional[TreeNode]) -> Optional[TreeNode]:\n",
    "        if root1 and root2:\n",
    "            node = TreeNode(root1.val + root2.val)\n",
    "            node.left = self.mergeTrees(root1.left, root2.left)\n",
    "            node.right = self.mergeTrees(root1.right, root2.right)\n",
    "\n",
    "            return node\n",
    "        #만약 어느 한쪽에 노드가 존재하지 않는다면 존재하는 노드만 리턴하고 재귀를 호출x\n",
    "        else:\n",
    "            return root1 or root2"
   ]
  }
 ],
 "metadata": {
  "kernelspec": {
   "display_name": "Python 3.10.2 64-bit",
   "language": "python",
   "name": "python3"
  },
  "language_info": {
   "name": "python",
   "version": "3.10.2"
  },
  "orig_nbformat": 4,
  "vscode": {
   "interpreter": {
    "hash": "42d32b1e20b5f0f90a8678623a60d916f416705640fd2210905ba178817c6883"
   }
  }
 },
 "nbformat": 4,
 "nbformat_minor": 2
}
