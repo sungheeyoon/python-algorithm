{
 "cells": [
  {
   "attachments": {},
   "cell_type": "markdown",
   "metadata": {},
   "source": [
    "### leetcode122. Best Time to Buy and Sell Stock II\n",
    "\n",
    "You are given an integer array prices where prices[i] is the price of a given stock on the ith day.\n",
    "\n",
    "On each day, you may decide to buy and/or sell the stock. You can only hold at most one share of the stock at any time. However, you can buy it then immediately sell it on the same day.\n",
    "\n",
    "Find and return the maximum profit you can achieve.\n",
    "***\n",
    "Example 1:\n",
    "\n",
    "Input: prices = [7,1,5,3,6,4]<br>\n",
    "Output: 7<br>\n",
    "Explanation: Buy on day 2 (price = 1) and sell on day 3 (price = 5), profit = 5-1 = 4.<br>\n",
    "Then buy on day 4 (price = 3) and sell on day 5 (price = 6), profit = 6-3 = 3.<br>\n",
    "Total profit is 4 + 3 = 7."
   ]
  },
  {
   "cell_type": "code",
   "execution_count": null,
   "metadata": {},
   "outputs": [],
   "source": [
    "class Solution:\n",
    "    def maxProfit(self, prices: List[int]) -> int:\n",
    "        result = 0\n",
    "        #값이 오르는 경우 매번 계산\n",
    "        for i in range(len(prices) - 1):\n",
    "            if prices[i + 1] > prices[i]:\n",
    "                result += prices[i + 1] - prices[i]\n",
    "        return result"
   ]
  },
  {
   "cell_type": "code",
   "execution_count": null,
   "metadata": {},
   "outputs": [],
   "source": [
    "class Solution:\n",
    "    def maxProfit(self, prices: List[int]) -> int:\n",
    "        return sum(max(prices[i + 1] - prices[i], 0) for i in range(len(prices) - 1))"
   ]
  },
  {
   "attachments": {},
   "cell_type": "markdown",
   "metadata": {},
   "source": [
    "### leetcode406. Queue Reconstruction by Height\n",
    "\n",
    "You are given an array of people, people, which are the attributes of some people in a queue (not necessarily in order). Each people[i] = [hi, ki] represents the ith person of height hi with exactly ki other people in front who have a height greater than or equal to hi.\n",
    "\n",
    "Reconstruct and return the queue that is represented by the input array people. The returned queue should be formatted as an array queue, where queue[j] = [hj, kj] is the attributes of the jth person in the queue (queue[0] is the person at the front of the queue).\n",
    "***\n",
    "Example 1:\n",
    "\n",
    "Input: people = [[7,0],[4,4],[7,1],[5,0],[6,1],[5,2]]<br>\n",
    "Output: [[5,0],[7,0],[5,2],[6,1],[4,4],[7,1]]"
   ]
  },
  {
   "cell_type": "code",
   "execution_count": null,
   "metadata": {},
   "outputs": [],
   "source": [
    "class Solution:\n",
    "    def reconstructQueue(self, people: List[List[int]]) -> List[List[int]]:\n",
    "        heap = []\n",
    "        #기존은 최소힙이므로 큰값부터 출력하기위해 역순으로(0번인덱스를 음수로) 힙에 저장한다.\n",
    "        for person in people:\n",
    "            heapq.heappush(heap, (-person[0], person[1]))\n",
    "        \n",
    "        result = []\n",
    "\n",
    "        while heap:\n",
    "            person = heapq.heappop(heap)\n",
    "            #insert(index, value)\n",
    "            result.insert(person[1], [-person[0], person[1]])\n",
    "        return result"
   ]
  },
  {
   "attachments": {},
   "cell_type": "markdown",
   "metadata": {},
   "source": [
    "### leetcode621. Task Scheduler\n",
    "\n",
    "Given a characters array tasks, representing the tasks a CPU needs to do, where each letter represents a different task. Tasks could be done in any order. Each task is done in one unit of time. For each unit of time, the CPU could complete either one task or just be idle.\n",
    "\n",
    "However, there is a non-negative integer n that represents the cooldown period between two same tasks (the same letter in the array), that is that there must be at least n units of time between any two same tasks.\n",
    "\n",
    "Return the least number of units of times that the CPU will take to finish all the given tasks.\n",
    "***\n",
    "Example 1:\n",
    "\n",
    "Input: tasks = [\"A\",\"A\",\"A\",\"B\",\"B\",\"B\"], n = 2<br>\n",
    "Output: 8<br>\n",
    "Explanation: <br>\n",
    "A -> B -> idle -> A -> B -> idle -> A -> B<br>\n",
    "There is at least 2 units of time between any two same tasks."
   ]
  },
  {
   "cell_type": "code",
   "execution_count": null,
   "metadata": {},
   "outputs": [],
   "source": [
    "class Solution:\n",
    "    def leastInterval(self, tasks: List[str], n: int) -> int:\n",
    "        counter = collections.Counter(tasks)\n",
    "        result = 0\n",
    "\n",
    "        while True:\n",
    "            sub_count = 0\n",
    "            for task, _ in counter.most_common(n + 1):\n",
    "                sub_count += 1\n",
    "                result += 1\n",
    "\n",
    "                counter.subtract(task)\n",
    "                #0 이하인 아이템을 목록에서 제거\n",
    "                counter += collections.Counter()\n",
    "            if not counter:\n",
    "                break\n",
    "            \n",
    "            result += n - sub_count + 1\n",
    "        return result"
   ]
  },
  {
   "attachments": {},
   "cell_type": "markdown",
   "metadata": {},
   "source": [
    "### leetcode134. Gas Station\n",
    "\n",
    "There are n gas stations along a circular route, where the amount of gas at the ith station is gas[i].\n",
    "\n",
    "You have a car with an unlimited gas tank and it costs cost[i] of gas to travel from the ith station to its next (i + 1)th station. You begin the journey with an empty tank at one of the gas stations.\n",
    "\n",
    "Given two integer arrays gas and cost, return the starting gas station's index if you can travel around the circuit once in the clockwise direction, otherwise return -1. If there exists a solution, it is guaranteed to be unique\n",
    "***\n",
    "Example 1:\n",
    "\n",
    "Input: gas = [1,2,3,4,5], cost = [3,4,5,1,2]<br>\n",
    "Output: 3<br>\n",
    "Explanation:<br>\n",
    "Start at station 3 (index 3) and fill up with 4 unit of gas. Your tank = 0 + 4 = 4<br>\n",
    "Travel to station 4. Your tank = 4 - 1 + 5 = 8<br>\n",
    "Travel to station 0. Your tank = 8 - 2 + 1 = 7<br>\n",
    "Travel to station 1. Your tank = 7 - 3 + 2 = 6<br>\n",
    "Travel to station 2. Your tank = 6 - 4 + 3 = 5<br>\n",
    "Travel to station 3. The cost is 5. Your gas is just enough to travel back to station 3.<br>\n",
    "Therefore, return 3 as the starting index."
   ]
  },
  {
   "cell_type": "code",
   "execution_count": null,
   "metadata": {},
   "outputs": [],
   "source": [
    "class Solution:\n",
    "    def canCompleteCircuit(self, gas: List[int], cost: List[int]) -> int:\n",
    "        for start in range(len(gas)):\n",
    "            fuel = 0\n",
    "            for i in range(start, len(gas) + start):\n",
    "                index = i % len(gas)\n",
    "\n",
    "                can_travel = True\n",
    "                if gas[index] + fuel < cost[index]:\n",
    "                    can_travel = False\n",
    "                    break\n",
    "                else:\n",
    "                    fuel += gas[index] - cost[index]\n",
    "            if can_travel:\n",
    "                return start\n",
    "        return -1"
   ]
  },
  {
   "cell_type": "code",
   "execution_count": null,
   "metadata": {},
   "outputs": [],
   "source": [
    "class Solution:\n",
    "    def canCompleteCircuit(self, gas: List[int], cost: List[int]) -> int:\n",
    "        if sum(gas) < sum(cost):\n",
    "            return -1\n",
    "        \n",
    "        start, fuel = 0, 0\n",
    "        for i in range(len(gas)):\n",
    "            if gas[i] + fuel < cost[i]:\n",
    "                start = i + 1\n",
    "                fuel = 0\n",
    "            else:\n",
    "                fuel += gas[i] - cost[i]\n",
    "        return start"
   ]
  },
  {
   "attachments": {},
   "cell_type": "markdown",
   "metadata": {},
   "source": [
    "### leetcode455. Assign Cookies\n",
    "\n",
    "Assume you are an awesome parent and want to give your children some cookies. But, you should give each child at most one cookie.\n",
    "\n",
    "Each child i has a greed factor g[i], which is the minimum size of a cookie that the child will be content with; and each cookie j has a size s[j]. If s[j] >= g[i], we can assign the cookie j to the child i, and the child i will be content. Your goal is to maximize the number of your content children and output the maximum number.\n",
    "***\n",
    "Example 1:\n",
    "\n",
    "Input: g = [1,2,3], s = [1,1]<br>\n",
    "Output: 1<br>\n",
    "Explanation: You have 3 children and 2 cookies. The greed factors of 3 children are 1, 2, 3. <br>\n",
    "And even though you have 2 cookies, since their size is both 1, you could only make the child whose greed factor is 1 content.<br>\n",
    "You need to output 1."
   ]
  },
  {
   "cell_type": "code",
   "execution_count": null,
   "metadata": {},
   "outputs": [],
   "source": [
    "class Solution:\n",
    "    def findContentChildren(self, g: List[int], s: List[int]) -> int:\n",
    "        g.sort()\n",
    "        s.sort()\n",
    "\n",
    "        child_i = cookie_j = 0\n",
    "\n",
    "        while child_i < len(g) and cookie_j <len(s):\n",
    "            if s[cookie_j] >= g[child_i]:\n",
    "                child_i += 1\n",
    "            cookie_j += 1\n",
    "        return child_i"
   ]
  },
  {
   "cell_type": "code",
   "execution_count": null,
   "metadata": {},
   "outputs": [],
   "source": [
    "class Solution:\n",
    "    def findContentChildren(self, g: List[int], s: List[int]) -> int:\n",
    "        g.sort()\n",
    "        s.sort()\n",
    "\n",
    "        result = 0\n",
    "        for i in s:\n",
    "            index = bisect.bisect_right(g, i)\n",
    "            if index > result:\n",
    "                result += 1\n",
    "        return result"
   ]
  }
 ],
 "metadata": {
  "kernelspec": {
   "display_name": "Python 3",
   "language": "python",
   "name": "python3"
  },
  "language_info": {
   "name": "python",
   "version": "3.10.2 (tags/v3.10.2:a58ebcc, Jan 17 2022, 14:12:15) [MSC v.1929 64 bit (AMD64)]"
  },
  "orig_nbformat": 4,
  "vscode": {
   "interpreter": {
    "hash": "42d32b1e20b5f0f90a8678623a60d916f416705640fd2210905ba178817c6883"
   }
  }
 },
 "nbformat": 4,
 "nbformat_minor": 2
}
