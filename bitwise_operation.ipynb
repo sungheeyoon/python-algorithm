{
 "cells": [
  {
   "cell_type": "markdown",
   "metadata": {},
   "source": [
    "### leetcode136. Single Number\n",
    "\n",
    "Given a non-empty array of integers nums, every element appears twice except for one. Find that single one.\n",
    "\n",
    "You must implement a solution with a linear runtime complexity and use only constant extra space.\n",
    "\n",
    "***\n",
    "Example 1:\n",
    "\n",
    "Input: nums = [2,2,1]<br>\n",
    "Output: 1"
   ]
  },
  {
   "cell_type": "code",
   "execution_count": null,
   "metadata": {},
   "outputs": [],
   "source": [
    "#[4, 2, 1, 2, 1]에서 교환법칙을 통해 정리하면\n",
    "# 0 ^ 4 ^ 2 ^ 1 ^ 2 ^ 1 = 0 ^ 4 ^ 1 ^ 1 ^ 2 ^ 2   = 4\n",
    "class Solution:\n",
    "    def singleNumber(self, nums: List[int]) -> int:\n",
    "        result = 0\n",
    "        for num in nums:\n",
    "            result ^= num\n",
    "        \n",
    "        return result"
   ]
  },
  {
   "cell_type": "markdown",
   "metadata": {},
   "source": [
    "### leetcode461. Hamming Distance\n",
    "\n",
    "The Hamming distance between two integers is the number of positions at which the corresponding bits are different.\n",
    "\n",
    "Given two integers x and y, return the Hamming distance between them.\n",
    "\n",
    "***\n",
    "Example 1:\n",
    "\n",
    "Input: x = 1, y = 4<br>\n",
    "Output: 2<br>\n",
    "Explanation:<br>\n",
    "1   (0 0 0 1)<br>\n",
    "4   (0 1 0 0)<br>\n",
    "The above arrows point to positions where the corresponding bits are different."
   ]
  },
  {
   "cell_type": "code",
   "execution_count": null,
   "metadata": {},
   "outputs": [],
   "source": [
    "class Solution:\n",
    "    def hammingDistance(self, x: int, y: int) -> int:\n",
    "        return bin(x ^ y).count('1')"
   ]
  }
 ],
 "metadata": {
  "kernelspec": {
   "display_name": "Python 3.10.2 64-bit",
   "language": "python",
   "name": "python3"
  },
  "language_info": {
   "name": "python",
   "version": "3.10.2"
  },
  "orig_nbformat": 4,
  "vscode": {
   "interpreter": {
    "hash": "42d32b1e20b5f0f90a8678623a60d916f416705640fd2210905ba178817c6883"
   }
  }
 },
 "nbformat": 4,
 "nbformat_minor": 2
}
