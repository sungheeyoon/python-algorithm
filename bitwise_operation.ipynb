{
 "cells": [
  {
   "cell_type": "markdown",
   "metadata": {},
   "source": [
    "### leetcode136. Single Number\n",
    "\n",
    "Given a non-empty array of integers nums, every element appears twice except for one. Find that single one.\n",
    "\n",
    "You must implement a solution with a linear runtime complexity and use only constant extra space.\n",
    "\n",
    "***\n",
    "Example 1:\n",
    "\n",
    "Input: nums = [2,2,1]<br>\n",
    "Output: 1"
   ]
  },
  {
   "cell_type": "code",
   "execution_count": null,
   "metadata": {},
   "outputs": [],
   "source": [
    "#[4, 2, 1, 2, 1]에서 교환법칙을 통해 정리하면\n",
    "# 0 ^ 4 ^ 2 ^ 1 ^ 2 ^ 1 = 0 ^ 4 ^ 1 ^ 1 ^ 2 ^ 2   = 4\n",
    "class Solution:\n",
    "    def singleNumber(self, nums: List[int]) -> int:\n",
    "        result = 0\n",
    "        for num in nums:\n",
    "            result ^= num\n",
    "        \n",
    "        return result"
   ]
  },
  {
   "cell_type": "markdown",
   "metadata": {},
   "source": [
    "### leetcode461. Hamming Distance\n",
    "\n",
    "The Hamming distance between two integers is the number of positions at which the corresponding bits are different.\n",
    "\n",
    "Given two integers x and y, return the Hamming distance between them.\n",
    "\n",
    "***\n",
    "Example 1:\n",
    "\n",
    "Input: x = 1, y = 4<br>\n",
    "Output: 2<br>\n",
    "Explanation:<br>\n",
    "1   (0 0 0 1)<br>\n",
    "4   (0 1 0 0)<br>\n",
    "The above arrows point to positions where the corresponding bits are different."
   ]
  },
  {
   "cell_type": "code",
   "execution_count": null,
   "metadata": {},
   "outputs": [],
   "source": [
    "class Solution:\n",
    "    def hammingDistance(self, x: int, y: int) -> int:\n",
    "        return bin(x ^ y).count('1')"
   ]
  },
  {
   "cell_type": "markdown",
   "metadata": {},
   "source": [
    "### leetcode371. Sum of Two Integers\n",
    "\n",
    "Given two integers a and b, return the sum of the two integers without using the operators + and -.\n",
    "\n",
    "***\n",
    "Example 1:\n",
    "\n",
    "Input: a = 1, b = 2<br>\n",
    "Output: 3"
   ]
  },
  {
   "cell_type": "code",
   "execution_count": null,
   "metadata": {},
   "outputs": [],
   "source": [
    "class Solution:\n",
    "    def getSum(self, a: int, b: int) -> int:\n",
    "        #파이썬은 비트 연산할때 2의 보수로 변환하므로 비트 마스크 0b1111을 만들어 &연산한다\n",
    "        #(0b1111와 &연산하면 그대로 출력되니까!) 나는 2의보수가 필요하다..\n",
    "        MASK = 0xFFFFFFFF\n",
    "        INT_MAX = 0x7FFFFFFF #양수 중 제일 큰 수\n",
    "        #십진수 a, b를 2진수 문자열로 표현 & 앞의 0b를 제거하고 32bit를 만들어 주는 전처리과정\n",
    "        a_bin = bin(a & MASK)[2:].zfill(32)\n",
    "        b_bin = bin(b & MASK)[2:].zfill(32)\n",
    "\n",
    "        result = []\n",
    "        carry = 0\n",
    "        sum_bit =0\n",
    "        for i in range(32): #맨 마지막 비트부터 계산 -> 총 32bit 이므로 32번 반복\n",
    "            A = int(a_bin[31 - i])\n",
    "            B = int(b_bin[31 - i])\n",
    "\n",
    "            Q1 = A & B\n",
    "            Q2 = A ^ B\n",
    "            Q3 = Q2 & carry\n",
    "            sum_bit = carry ^ Q2\n",
    "            carry = Q1 | Q3\n",
    "\n",
    "            result.append(str(sum_bit))\n",
    "        if carry == 1:\n",
    "            result.append('1')\n",
    "\n",
    "        result = int(''.join(result[::-1]), 2) & MASK #이진수 문자열을 숫자로 변환\n",
    "\n",
    "        if result > INT_MAX:  #음수일경우\n",
    "            #result ^ MASK는 result의 0을 1로, 1을 0으로 바꿔줌\n",
    "             #그 값을 Not연산 => ~x(십진수) = -x(십진수) -1\n",
    "            result = ~(result ^ MASK)\n",
    "        \n",
    "        return result"
   ]
  },
  {
   "cell_type": "code",
   "execution_count": null,
   "metadata": {},
   "outputs": [],
   "source": [
    "class Solution:\n",
    "    def getSum(self, a: int, b: int) -> int:\n",
    "        MASK = 0xFFFFFFFF  #32bit 비트 마스크\n",
    "        INT_MAX = 0x7FFFFFFF  #양수 최대값\n",
    "        \n",
    "        while b:\n",
    "            #a 는 carry값을 고려하지않은 sum 이 담기며 , b는 자릿수를올리며 carry 값을 담았다.\n",
    "            a, b = (a ^ b) & MASK, ((a & b) << 1) & MASK\n",
    "        \n",
    "        if a > INT_MAX:\n",
    "            a = ~(a ^ MASK)\n",
    "            \n",
    "        return a"
   ]
  },
  {
   "cell_type": "markdown",
   "metadata": {},
   "source": [
    "### leetcode393. UTF-8 Validation\n",
    "\n",
    "Given an integer array data representing the data, return whether it is a valid UTF-8 encoding (i.e. it translates to a sequence of valid UTF-8 encoded characters).\n",
    "\n",
    "A character in UTF8 can be from 1 to 4 bytes long, subjected to the following rules:\n",
    "\n",
    "For a 1-byte character, the first bit is a 0, followed by its Unicode code.\n",
    "For an n-bytes character, the first n bits are all one's, the n + 1 bit is 0, followed by n - 1 bytes with the most significant 2 bits being 10.\n",
    "\n",
    "***\n",
    "Example 1:\n",
    "\n",
    "Input: data = [197,130,1]<br>\n",
    "Output: true<br>\n",
    "Explanation: data represents the octet sequence: 11000101 10000010 00000001.<br>\n",
    "It is a valid utf-8 encoding for a 2-bytes character followed by a 1-byte character."
   ]
  },
  {
   "cell_type": "code",
   "execution_count": null,
   "metadata": {},
   "outputs": [],
   "source": [
    "class Solution:\n",
    "    def validUtf8(self, data: List[int]) -> bool:\n",
    "        def check(size):\n",
    "            for i in range(start + 1 ,start + size + 1):\n",
    "                if i >= len(data) or (data[i] >> 6) != 0b10:\n",
    "                    return False\n",
    "            return True\n",
    "    \n",
    "        start = 0\n",
    "        while start < len(data):\n",
    "            first = data[start]\n",
    "            if (first >> 3) == 0b11110 and check(3):\n",
    "                start += 4\n",
    "            elif (first >> 4) == 0b1110 and check(2):\n",
    "                start += 3\n",
    "            elif (first >> 5) == 0b110 and check(1):\n",
    "                start += 2\n",
    "            elif (first >> 7) == 0:\n",
    "                start += 1\n",
    "            else:\n",
    "                return False\n",
    "        return True"
   ]
  },
  {
   "cell_type": "markdown",
   "metadata": {},
   "source": [
    "### leetcode191. Number of 1 Bits\n",
    "\n",
    "Write a function that takes an unsigned integer and returns the number of '1' bits it has (also known as the Hamming weight).\n",
    "\n",
    "Note:\n",
    "\n",
    "Note that in some languages, such as Java, there is no unsigned integer type. In this case, the input will be given as a signed integer type. It should not affect your implementation, as the integer's internal binary representation is the same, whether it is signed or unsigned.\n",
    "In Java, the compiler represents the signed integers using 2's complement notation. Therefore, in Example 3, the input represents the signed integer. -3.\n",
    "\n",
    "***\n",
    "Example 1:\n",
    "\n",
    "Input: n = 00000000000000000000000000001011<br>\n",
    "Output: 3<br>\n",
    "Explanation: The input binary string 00000000000000000000000000001011 has a total of three '1' bits."
   ]
  },
  {
   "cell_type": "code",
   "execution_count": null,
   "metadata": {},
   "outputs": [],
   "source": [
    "class Solution:\n",
    "    def hammingWeight(self, n: int) -> int:\n",
    "        # n 에 0 을 XOR하면 1의 갯수를 추출할수있다.\n",
    "        return bin(n^0).count('1')"
   ]
  },
  {
   "cell_type": "code",
   "execution_count": null,
   "metadata": {},
   "outputs": [],
   "source": [
    "class Solution:\n",
    "    def hammingWeight(self, n: int) -> int:\n",
    "        # 0은 생략가능하다.\n",
    "        return bin(n).count('1')"
   ]
  },
  {
   "cell_type": "code",
   "execution_count": null,
   "metadata": {},
   "outputs": [],
   "source": [
    "class Solution:\n",
    "    def hammingWeight(self, n: int) -> int:\n",
    "        count = 0\n",
    "        while n:\n",
    "            # 1을 뺀 값과 AND 연산 횟수 측정\n",
    "            n &= n - 1\n",
    "            count += 1\n",
    "        return count"
   ]
  }
 ],
 "metadata": {
  "kernelspec": {
   "display_name": "Python 3.10.2 64-bit",
   "language": "python",
   "name": "python3"
  },
  "language_info": {
   "name": "python",
   "version": "3.10.2"
  },
  "orig_nbformat": 4,
  "vscode": {
   "interpreter": {
    "hash": "42d32b1e20b5f0f90a8678623a60d916f416705640fd2210905ba178817c6883"
   }
  }
 },
 "nbformat": 4,
 "nbformat_minor": 2
}
