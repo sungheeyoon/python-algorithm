{
 "cells": [
  {
   "cell_type": "markdown",
   "metadata": {},
   "source": [
    "### leetcode234. Palindrome Linked List\n",
    "\n",
    "Given the head of a singly linked list, return true if it is a \n",
    "palindrome\n",
    " or false otherwise.\n",
    "***\n",
    "Example 1:\n",
    "\n",
    "Input: head = [1,2,2,1]\n",
    "\n",
    "Output: true"
   ]
  },
  {
   "cell_type": "code",
   "execution_count": null,
   "metadata": {},
   "outputs": [],
   "source": [
    "#리스트 변환\n",
    "def isPalindrome(head: Optional[ListNode]) -> bool:\n",
    "        q=[]\n",
    "        #데크 자료형 사용시\n",
    "        #q=Deque=colletcions.deque()\n",
    "        if not head:\n",
    "            return True\n",
    "        \n",
    "        node = head\n",
    "\n",
    "        while node is not None:\n",
    "            q.append(node.val)\n",
    "            node = node.next\n",
    "\n",
    "        return q==q[::-1]\n",
    "        # while len(q)>1:\n",
    "        #     if q.popleft !== q.pop():\n",
    "        #         return False\n",
    "        #return True"
   ]
  },
  {
   "cell_type": "code",
   "execution_count": null,
   "metadata": {},
   "outputs": [],
   "source": [
    "#두개의 fast,slow러너를 이용한 풀이\n",
    "def isPalindrome(head: Optional[ListNode]) -> bool:\n",
    "        rev=None\n",
    "        slow = fast =head\n",
    "\n",
    "        while fast and fast.next:\n",
    "            fast = fast.next.next\n",
    "            rev, rev.next, slow = slow, rev, slow.next\n",
    "        if fast:\n",
    "            slow=slow.next\n",
    "\n",
    "        while rev and rev.val == slow.val:\n",
    "            rev,slow =rev.next, slow.next\n",
    "        return not rev"
   ]
  },
  {
   "cell_type": "markdown",
   "metadata": {},
   "source": [
    "### leetcode21. Merge Two Sorted Lists\n",
    "\n",
    "You are given the heads of two sorted linked lists list1 and list2.\n",
    "\n",
    "Merge the two lists in a one sorted list. The list should be made by splicing together the nodes of the first two lists.\n",
    "\n",
    "Return the head of the merged linked list.\n",
    "***\n",
    "Example 1:\n",
    "\n",
    "Input: list1 = [1,2,4], list2 = [1,3,4]\n",
    "\n",
    "Output: [1,1,2,3,4,4]"
   ]
  },
  {
   "cell_type": "code",
   "execution_count": null,
   "metadata": {},
   "outputs": [],
   "source": [
    "#어렵다.. 재귀\n",
    "# Definition for singly-linked list.\n",
    "# class ListNode:\n",
    "#     def __init__(self, val=0, next=None):\n",
    "#         self.val = val\n",
    "#         self.next = next\n",
    "class Solution:\n",
    "    def mergeTwoLists(self, list1: Optional[ListNode], list2: Optional[ListNode]) -> Optional[ListNode]:\n",
    "        #마지막일때, list2가 아직있을때 \n",
    "        if (not list1) or (list2 and list1.val>list2.val):\n",
    "            list1,list2=list2,list1\n",
    "        if list1:\n",
    "            list1.next =self.mergeTwoLists(list1.next,list2)\n",
    "            \n",
    "        return list1"
   ]
  },
  {
   "cell_type": "markdown",
   "metadata": {},
   "source": [
    "### leetcode206. Reverse Linked List\n",
    "\n",
    "Given the head of a singly linked list, reverse the list, and return the reversed list.\n",
    "***\n",
    "Example 1:\n",
    "\n",
    "Input: head = [1,2,3,4,5]\n",
    "\n",
    "Output: [5,4,3,2,1]"
   ]
  },
  {
   "cell_type": "code",
   "execution_count": null,
   "metadata": {},
   "outputs": [],
   "source": [
    "def reverseList(self, head: Optional[ListNode]) -> Optional[ListNode]:\n",
    "    node,prev = head,None\n",
    "    \n",
    "    while node:\n",
    "        next,node.next = node.next, prev\n",
    "        prev,node = node,next\n",
    "    \n",
    "    return prev"
   ]
  },
  {
   "cell_type": "markdown",
   "metadata": {},
   "source": [
    "### leetcode2. Add Two Numbers\n",
    "\n",
    "You are given two non-empty linked lists representing two non-negative integers. The digits are stored in reverse order, and each of their nodes contains a single digit. Add the two numbers and return the sum as a linked list.\n",
    "\n",
    "You may assume the two numbers do not contain any leading zero, except the number 0 itself.\n",
    "***\n",
    "Example 1:\n",
    "\n",
    "Input: l1 = [2,4,3], l2 = [5,6,4]\n",
    "\n",
    "Output: [7,0,8]\n",
    "\n",
    "Explanation: 342 + 465 = 807."
   ]
  },
  {
   "cell_type": "code",
   "execution_count": null,
   "metadata": {},
   "outputs": [],
   "source": [
    "def addTwoNumbers(self, l1: Optional[ListNode], l2: Optional[ListNode]) -> Optional[ListNode]:\n",
    "        root = head = ListNode(0)\n",
    "        head.next=ListNode(1)\n",
    "        carry=0\n",
    "        while l1 or l2 or carry:\n",
    "            sum=0\n",
    "\n",
    "            if l1:\n",
    "                sum+=l1.val\n",
    "                l1 = l1.next\n",
    "            if l2:\n",
    "                sum+=l2.val\n",
    "                l2 = l2.next\n",
    "            carry,val = divmod(carry+sum,10)\n",
    "            head.next=ListNode(val)\n",
    "            head = head.next\n",
    "        return root.next"
   ]
  },
  {
   "cell_type": "markdown",
   "metadata": {},
   "source": [
    "### leetcode24. Swap Nodes in Pairs\n",
    "\n",
    "Given a linked list, swap every two adjacent nodes and return its head. You must solve the problem without modifying the values in the list's nodes (i.e., only nodes themselves may be changed.)\n",
    "***\n",
    "Example 1:\n",
    "\n",
    "Input: head = [1,2,3,4]\n",
    "\n",
    "Output: [2,1,4,3]"
   ]
  },
  {
   "cell_type": "code",
   "execution_count": null,
   "metadata": {},
   "outputs": [],
   "source": [
    "#RecursionError는 재귀와 관련된 에러입니다. 가장 많이 발생하는 이유는 Python이 정한 최대 재귀 깊이보다 재귀의 깊이가 더 깊어질 때입니다.\n",
    "def swapPairs(self, head: Optional[ListNode]) -> Optional[ListNode]:\n",
    "        cur = head\n",
    "        while cur and cur.next:\n",
    "            cur.val,cur.next.val=cur.next.val,cur\n",
    "            cur = cur.next.next\n",
    "        return head"
   ]
  },
  {
   "cell_type": "code",
   "execution_count": null,
   "metadata": {},
   "outputs": [],
   "source": [
    "#반복구조 스왑\n",
    "def swapPairs(self, head: Optional[ListNode]) -> Optional[ListNode]:\n",
    "        root = prev = ListNode(None)\n",
    "        prev.next = head\n",
    "        while head and head.next:\n",
    "            b= head.next\n",
    "            head.next = b.next\n",
    "            b.next = head\n",
    "\n",
    "            prev.next = b\n",
    "\n",
    "            head = head.next\n",
    "            prev = prev.next.next\n",
    "        return root.next"
   ]
  },
  {
   "cell_type": "markdown",
   "metadata": {},
   "source": [
    "### leetcode328. Odd Even Linked List\n",
    "\n",
    "Given the head of a singly linked list, group all the nodes with odd indices together followed by the nodes with even indices, and return the reordered list.\n",
    "\n",
    "The first node is considered odd, and the second node is even, and so on.\n",
    "\n",
    "Note that the relative order inside both the even and odd groups should remain as it was in the input.\n",
    "\n",
    "You must solve the problem in O(1) extra space complexity and O(n) time complexity.\n",
    "***\n",
    "Example 1:\n",
    "\n",
    "Input: head = [1,2,3,4,5]\n",
    "\n",
    "Output: [1,3,5,2,4]"
   ]
  },
  {
   "cell_type": "code",
   "execution_count": null,
   "metadata": {},
   "outputs": [],
   "source": [
    "def oddEvenList(self, head: Optional[ListNode]) -> Optional[ListNode]:\n",
    "        if head is None:\n",
    "            return None\n",
    "\n",
    "        odd = head\n",
    "        even_head = head.next\n",
    "        even = head.next\n",
    "\n",
    "        while even and even.next:\n",
    "            odd.next, even.next = odd.next.next, even.next.next\n",
    "            odd, even = odd.next, even.next\n",
    "        odd.next = even_head\n",
    "        #odd,even 으로 위치를 옮겨준것일뿐 전체적으로보면 head가 변한것\n",
    "        return head"
   ]
  },
  {
   "cell_type": "markdown",
   "metadata": {},
   "source": [
    "### leetcode92. Reverse Linked List II\n",
    "\n",
    "Given the head of a singly linked list and two integers left and right where left <= right, reverse the nodes of the list from position left to position right, and return the reversed list.\n",
    "***\n",
    "Example 1:\n",
    "\n",
    "Input: head = [1,2,3,4,5], left = 2, right = 4\n",
    "\n",
    "Output: [1,4,3,2,5]"
   ]
  },
  {
   "cell_type": "code",
   "execution_count": null,
   "metadata": {},
   "outputs": [],
   "source": [
    "#이해하기 어려웠지만 재밌었다..\n",
    "def reverseBetween(self, head: Optional[ListNode], left: int, right: int) -> Optional[ListNode]:\n",
    "        if not head or left==right:\n",
    "            return head\n",
    "        \n",
    "        root = start = ListNode(None)\n",
    "        root.next = head\n",
    "\n",
    "        for _ in range(left-1):\n",
    "            start= start.next\n",
    "        end = start.next\n",
    "\n",
    "        for _ in range(right-left):\n",
    "            tmp, start.next, end.next = start.next, end.next, end.next.next\n",
    "            start.next.next = tmp\n",
    "        return root.next"
   ]
  }
 ],
 "metadata": {
  "kernelspec": {
   "display_name": "Python 3.10.2 64-bit",
   "language": "python",
   "name": "python3"
  },
  "language_info": {
   "name": "python",
   "version": "3.10.2"
  },
  "orig_nbformat": 4,
  "vscode": {
   "interpreter": {
    "hash": "42d32b1e20b5f0f90a8678623a60d916f416705640fd2210905ba178817c6883"
   }
  }
 },
 "nbformat": 4,
 "nbformat_minor": 2
}
