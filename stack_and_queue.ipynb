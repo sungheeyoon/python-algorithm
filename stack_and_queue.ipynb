{
 "cells": [
  {
   "cell_type": "markdown",
   "metadata": {},
   "source": [
    "### leetcode20. Valid Parentheses\n",
    "\n",
    "Given a string s containing just the characters '(', ')', '{', '}', '[' and ']', determine if the input string is valid.\n",
    "\n",
    "An input string is valid if:\n",
    "\n",
    "Open brackets must be closed by the same type of brackets.<br>\n",
    "Open brackets must be closed in the correct order.<br>\n",
    "Every close bracket has a corresponding open bracket of the same type.\n",
    "***\n",
    "Example 1:\n",
    "\n",
    "Input: s = \"()[]{}\"\n",
    "\n",
    "Output: true"
   ]
  },
  {
   "cell_type": "code",
   "execution_count": 1,
   "metadata": {},
   "outputs": [
    {
     "data": {
      "text/plain": [
       "True"
      ]
     },
     "execution_count": 1,
     "metadata": {},
     "output_type": "execute_result"
    }
   ],
   "source": [
    "\n",
    "def isValid(s: str) -> bool:\n",
    "    stack = []\n",
    "    table={\n",
    "            ')':'(',\n",
    "            '}':'{',\n",
    "            ']':'[',\n",
    "    }\n",
    "    for char in s:\n",
    "        if char not in table:\n",
    "            stack.append(char)\n",
    "        elif not stack or table[char] != stack.pop():\n",
    "            return False\n",
    "    return len(stack)==0\n",
    "isValid(\"()\")"
   ]
  },
  {
   "cell_type": "markdown",
   "metadata": {},
   "source": [
    "### leetcode316. Remove Duplicate Letters\n",
    "\n",
    "Given a string s, remove duplicate letters so that every letter appears once and only once.<br> You must make sure your result is the smallest in lexicographical order among all possible results.\n",
    "\n",
    "사전식 배열이란\n",
    "어떤 모둠의 배열 방법에 규칙이 들어 있는 경우를 말한다. 예를 들어 A, B, C, D의 사전식 배열은 배열의 첫 번째가 처음 알파벳 A가 오고 그다음 BCD 순이 된다. 처음 알파벳 A가 나오고 BCD를 배열하고 끝나면 다음 B가 첫번째로 놓이고 ACD가 배열된다. 이런 식으로 배열되면 CDAB는 17번째 배열이라는 것을 쉽게 알 수 있는데 첫 문자에 A가 오는 게 6가지, B가 오는 게 6가지, C가 첫 번째 오고 다음 A가 오면 남은 BD 배열하는 방법 2가지, CB 오고 남은 AD 배열하는 방법 2가지, 그 다음이 CDAB 문자열이 나온다. 이런 식의 사전식 배열은 배열 자체가 어떤 정보가 될 때 그 정보를 빠르게 처리하기 위해(수학 문제를 풀기 위해) 만들어진 배열이며 규칙을 통해 어떤 배열이 몇 번째 배열이 되는지 쉽게 파악할 수 있는 장점이 있다.\n",
    "\n",
    "***\n",
    "Example 1:\n",
    "\n",
    "Input: s = \"cbacdcbc\"\n",
    "\n",
    "Output: \"acdb\""
   ]
  },
  {
   "cell_type": "code",
   "execution_count": 2,
   "metadata": {},
   "outputs": [
    {
     "data": {
      "text/plain": [
       "'acdb'"
      ]
     },
     "execution_count": 2,
     "metadata": {},
     "output_type": "execute_result"
    }
   ],
   "source": [
    "def removeDuplicateLetters(s: str) -> str:\n",
    "        for char in sorted(set(s)):\n",
    "            surffix = s[s.index(char):]\n",
    "            if set(s) == set(surffix):\n",
    "                    #공백이아닌 \" \" 와 같이 띄어쓰기가있을경우 무한재귀로 메모리를다할당하여 오류발생\n",
    "                return char + removeDuplicateLetters(surffix.replace(char,''))\n",
    "        return ''\n",
    "removeDuplicateLetters('cbacdcbc')"
   ]
  },
  {
   "cell_type": "code",
   "execution_count": null,
   "metadata": {},
   "outputs": [],
   "source": [
    "#뭔가 이해가 됐지만 내 코드가아닌느낌..\n",
    "def removeDuplicateLetters(self, s: str) -> str:\n",
    "        counter = collections.Counter(s)\n",
    "        seen = set()\n",
    "        stack = []\n",
    "\n",
    "        for char in s:\n",
    "            counter[char] -=1\n",
    "            if char in seen:\n",
    "                continue\n",
    "\n",
    "            while stack and char < stack[-1] and counter[stack[-1]] > 0:\n",
    "                seen.remove(stack.pop())\n",
    "            stack.append(char)\n",
    "            seen.add(char)\n",
    "        return ''.join(stack)"
   ]
  },
  {
   "cell_type": "markdown",
   "metadata": {},
   "source": [
    "### leetcode739. Daily Temperatures\n",
    "\n",
    "Given an array of integers temperatures represents the daily temperatures, return an array answer such that answer[i] is the number of days you have to wait after the ith day to get a warmer temperature.<br> If there is no future day for which this is possible, keep answer[i] == 0 instead.\n",
    "\n",
    "***\n",
    "Example 1:\n",
    "\n",
    "Input: temperatures = [73,74,75,71,69,72,76,73]\n",
    "\n",
    "Output: [1,1,4,2,1,1,0,0]"
   ]
  },
  {
   "cell_type": "code",
   "execution_count": null,
   "metadata": {},
   "outputs": [],
   "source": [
    "def dailyTemperatures(self, temperatures: List[int]) -> List[int]:\n",
    "        stack=[]\n",
    "        result=['0']*len(temperatures)\n",
    "        for i, cur in enumerate(temperatures):\n",
    "            while stack and temperatures[stack[-1]] < cur:\n",
    "                past=stack.pop()\n",
    "                result[past]=i-past\n",
    "            stack.append(i)\n",
    "        return result"
   ]
  }
 ],
 "metadata": {
  "kernelspec": {
   "display_name": "Python 3.10.2 64-bit",
   "language": "python",
   "name": "python3"
  },
  "language_info": {
   "codemirror_mode": {
    "name": "ipython",
    "version": 3
   },
   "file_extension": ".py",
   "mimetype": "text/x-python",
   "name": "python",
   "nbconvert_exporter": "python",
   "pygments_lexer": "ipython3",
   "version": "3.10.2"
  },
  "orig_nbformat": 4,
  "vscode": {
   "interpreter": {
    "hash": "42d32b1e20b5f0f90a8678623a60d916f416705640fd2210905ba178817c6883"
   }
  }
 },
 "nbformat": 4,
 "nbformat_minor": 2
}
