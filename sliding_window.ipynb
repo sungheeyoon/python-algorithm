{
 "cells": [
  {
   "attachments": {},
   "cell_type": "markdown",
   "metadata": {},
   "source": [
    "### leetcode239. Sliding Window Maximum\n",
    "\n",
    "You are given an array of integers nums, there is a sliding window of size k which is moving from the very left of the array to the very right. You can only see the k numbers in the window. Each time the sliding window moves right by one position.\n",
    "\n",
    "Return the max sliding window.\n",
    "***\n",
    "Example 1:\n",
    "\n",
    "Input: nums = [1,3,-1,-3,5,3,6,7], k = 3<br>\n",
    "Output: [3,3,5,5,6,7]<br>\n",
    "Explanation: \n",
    " |Window position|Max|\n",
    "|----------------|---|\n",
    "|[1  3  -1] -3 5  3  6  7 |3|\n",
    "|1 [3  -1  -3] 5  3  6  7 |3|\n",
    "|1  3 [-1  -3  5] 3  6  7 |5|\n",
    "|1  3  -1 [-3  5  3] 6  7 |5|\n",
    "|1  3  -1  -3 [5  3  6] 7 |6|\n",
    "|1  3  -1  -3  5 [3  6  7]|7|"
   ]
  },
  {
   "cell_type": "code",
   "execution_count": null,
   "metadata": {},
   "outputs": [],
   "source": [
    "# brute force\n",
    "\n",
    "class Solution:\n",
    "    def maxSlidingWindow(self, nums: List[int], k: int) -> List[int]:\n",
    "        if not nums:\n",
    "            return nums\n",
    "        \n",
    "        r = []\n",
    "        for i in range(len(nums) - k + 1):\n",
    "            print(i)\n",
    "            r.append(max(nums[i:i + k]))\n",
    "        return r"
   ]
  },
  {
   "cell_type": "code",
   "execution_count": null,
   "metadata": {},
   "outputs": [],
   "source": [
    "class Solution:\n",
    "    def maxSlidingWindow(self, nums: List[int], k: int) -> List[int]:\n",
    "        results = []\n",
    "        window = collections.deque()\n",
    "        current_max = float('-inf')\n",
    "        for i, v in enumerate(nums):\n",
    "            window.append(v)\n",
    "            if i < k - 1:\n",
    "                continue\n",
    "            if current_max == float('-inf'):\n",
    "                current_max = max(window)\n",
    "            elif v > current_max:\n",
    "                current_max = v\n",
    "            results.append(current_max)\n",
    "\n",
    "            if current_max == window.popleft():\n",
    "                current_max = float('-inf')\n",
    "        return results"
   ]
  },
  {
   "cell_type": "code",
   "execution_count": 2,
   "metadata": {},
   "outputs": [
    {
     "name": "stdout",
     "output_type": "stream",
     "text": [
      "deque([0])\n",
      "deque([1])\n",
      "deque([1, 2])\n",
      "deque([1, 2, 3])\n",
      "deque([4])\n",
      "deque([4, 5])\n",
      "deque([6])\n",
      "deque([7])\n",
      "[3, 3, 5, 5, 6, 7]\n"
     ]
    }
   ],
   "source": [
    "from collections import deque\n",
    "from typing import List\n",
    "\n",
    "class Solution:\n",
    "    def maxSlidingWindow(self, nums: List[int], k: int) -> List[int]:\n",
    "        deq, ans = deque(), []\n",
    "\n",
    "        for i in range(len(nums)):\n",
    "            # 앞에서부터 out of window -> 제거\n",
    "            if deq and i-deq[0] == k:\n",
    "                deq.popleft()\n",
    "\n",
    "            # 뒤에서부터 현재 추가할 숫자보다 작으면 -> 제거 (deq에 불필요한 숫자 없도록!)\n",
    "            while deq and nums[deq[-1]] <= nums[i]:\n",
    "                deq.pop()\n",
    "\n",
    "            deq.append(i) # 현재 숫자 추가( (i, num[i])로 저장해도 되나, 숫자 위치 저장만 해 space 줄임)\n",
    "\n",
    "            # 출력 부분 (현재 위치 >= window size일 때)\n",
    "            if i+1 >= k:\n",
    "                ans.append(nums[deq[0]])  # 맨 앞은 현재 window 에서 가장 큰 수\n",
    "\n",
    "        return ans\n",
    "\n",
    "sol = Solution()\n",
    "print(sol.maxSlidingWindow(nums=[1,3,-1,-3,5,3,6,7], k=3))\n",
    "\n",
    "'''\n",
    "파이썬 알고리즘 인터뷰 75번 문제.\n",
    "위 책 깃허브에 있는 sohyunwriter님의 코드.\n",
    "solution idea is from https://github.com/onlybooks/algorithm-interview/issues/67\n",
    "'''"
   ]
  },
  {
   "attachments": {},
   "cell_type": "markdown",
   "metadata": {},
   "source": [
    "### leetcode76. Minimum Window Substring\n",
    "\n",
    "Given two strings s and t of lengths m and n respectively, return the minimum window \n",
    "substring\n",
    " of s such that every character in t (including duplicates) is included in the window. If there is no such substring, return the empty string \"\".\n",
    "\n",
    "The testcases will be generated such that the answer is unique.\n",
    "***\n",
    "Example 1:\n",
    "\n",
    "Input: s = \"ADOBECODEBANC\", t = \"ABC\"<br>\n",
    "Output: \"BANC\"<br>\n",
    "Explanation: The minimum window substring \"BANC\" includes 'A', 'B', and 'C' from string t."
   ]
  },
  {
   "cell_type": "code",
   "execution_count": null,
   "metadata": {},
   "outputs": [],
   "source": [
    "#brute force\n",
    "class Solution:\n",
    "    def minWindow(self, s: str, t: str) -> str:\n",
    "        def contains(s_substr_lst: List, t_lst:List):\n",
    "            for t_elem in t_lst:\n",
    "                if t_elem in s_substr_lst:\n",
    "                    s_substr_lst.remove(t_elem)\n",
    "                else:\n",
    "                    return False\n",
    "            return True\n",
    "        \n",
    "        if not s or not t:\n",
    "            return ''\n",
    "        \n",
    "        window_size = len(t)\n",
    "\n",
    "        for size in range(window_size, len(s) + 1):\n",
    "            for left in range(len(s) - size + 1):\n",
    "                s_substr = s[left:left + size]\n",
    "                if contains(list(s_substr), list(t)):\n",
    "                    #제일 작은 길이 가 적합한경우 먼저 리턴\n",
    "                    return s_substr\n",
    "        return ''"
   ]
  },
  {
   "cell_type": "code",
   "execution_count": null,
   "metadata": {},
   "outputs": [],
   "source": [
    "#tow pointer\n",
    "class Solution:\n",
    "    def minWindow(self, s: str, t: str) -> str:\n",
    "        need = collections.Counter(t)\n",
    "        missing = len(t)\n",
    "        left = start = end = 0\n",
    "\n",
    "        for right, char in enumerate(s, 1):\n",
    "            missing -= need[char] > 0\n",
    "            need[char] -= 1\n",
    "            #필요 문자가 0 이면 왼쪽포인터이동\n",
    "            if missing == 0:\n",
    "                # 0보다 작으면 필요없는문자\n",
    "                while left < right and need[s[left]] < 0:\n",
    "                    need[s[left]] += 1\n",
    "                    left += 1\n",
    "                if not end or right - left <= end - start:\n",
    "                    start, end = left, right\n",
    "                    need[s[left]] += 1\n",
    "                    missing += 1\n",
    "                    left += 1\n",
    "        return s[start:end]"
   ]
  },
  {
   "cell_type": "code",
   "execution_count": null,
   "metadata": {},
   "outputs": [],
   "source": [
    "class Solution:\n",
    "    def minWindow(self, s: str, t: str) -> str:\n",
    "        t_count = collections.Counter(t)\n",
    "        current_count = collections.Counter()\n",
    "\n",
    "        start = float('-inf')\n",
    "        end = float('inf')\n",
    "\n",
    "        left = 0\n",
    "\n",
    "        for right, char in enumerate(s, 1):\n",
    "            current_count[char] += 1\n",
    "            #필요 문자가 0 이면 왼쪽포인터이동\n",
    "            while current_count & t_count == t_count:\n",
    "                if right - left <= end - start:\n",
    "                    start, end = left, right\n",
    "                current_count[s[left]] -= 1\n",
    "                left += 1\n",
    "        return s[start:end] if end - start <= len(s) else ''"
   ]
  },
  {
   "attachments": {},
   "cell_type": "markdown",
   "metadata": {},
   "source": [
    "### leetcode424. Longest Repeating Character Replacement\n",
    "\n",
    "You are given a string s and an integer k. You can choose any character of the string and change it to any other uppercase English character. You can perform this operation at most k times.\n",
    "\n",
    "Return the length of the longest substring containing the same letter you can get after performing the above operations.\n",
    "***\n",
    "Example 1:\n",
    "\n",
    "Input: s = \"ABAB\", k = 2<br>\n",
    "Output: 4<br>\n",
    "Explanation: Replace the two 'A's with two 'B's or vice versa."
   ]
  },
  {
   "cell_type": "code",
   "execution_count": null,
   "metadata": {},
   "outputs": [],
   "source": [
    "class Solution:\n",
    "    def characterReplacement(self, s: str, k: int) -> int:\n",
    "        left = right = 0\n",
    "        counts = collections.Counter()\n",
    "        for right in range(1, len(s) + 1):\n",
    "            counts[s[right - 1]] += 1\n",
    "\n",
    "            max_char_n = counts.most_common(1)[0][1]\n",
    "\n",
    "            if right - left - max_char_n > k:\n",
    "                counts[s[left]] -= 1\n",
    "                left += 1\n",
    "        return right - left"
   ]
  }
 ],
 "metadata": {
  "kernelspec": {
   "display_name": "Python 3.10.2 64-bit",
   "language": "python",
   "name": "python3"
  },
  "language_info": {
   "codemirror_mode": {
    "name": "ipython",
    "version": 3
   },
   "file_extension": ".py",
   "mimetype": "text/x-python",
   "name": "python",
   "nbconvert_exporter": "python",
   "pygments_lexer": "ipython3",
   "version": "3.10.2 (tags/v3.10.2:a58ebcc, Jan 17 2022, 14:12:15) [MSC v.1929 64 bit (AMD64)]"
  },
  "orig_nbformat": 4,
  "vscode": {
   "interpreter": {
    "hash": "42d32b1e20b5f0f90a8678623a60d916f416705640fd2210905ba178817c6883"
   }
  }
 },
 "nbformat": 4,
 "nbformat_minor": 2
}
