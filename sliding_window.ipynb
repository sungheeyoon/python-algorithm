{
 "cells": [
  {
   "attachments": {},
   "cell_type": "markdown",
   "metadata": {},
   "source": [
    "### leetcode239. Sliding Window Maximum\n",
    "\n",
    "You are given an array of integers nums, there is a sliding window of size k which is moving from the very left of the array to the very right. You can only see the k numbers in the window. Each time the sliding window moves right by one position.\n",
    "\n",
    "Return the max sliding window.\n",
    "***\n",
    "Example 1:\n",
    "\n",
    "Input: nums = [1,3,-1,-3,5,3,6,7], k = 3<br>\n",
    "Output: [3,3,5,5,6,7]<br>\n",
    "Explanation: \n",
    " |Window position|Max|\n",
    "|----------------|---|\n",
    "|[1  3  -1] -3 5  3  6  7 |3|\n",
    "|1 [3  -1  -3] 5  3  6  7 |3|\n",
    "|1  3 [-1  -3  5] 3  6  7 |5|\n",
    "|1  3  -1 [-3  5  3] 6  7 |5|\n",
    "|1  3  -1  -3 [5  3  6] 7 |6|\n",
    "|1  3  -1  -3  5 [3  6  7]|7|"
   ]
  },
  {
   "cell_type": "code",
   "execution_count": null,
   "metadata": {},
   "outputs": [],
   "source": [
    "# brute force\n",
    "\n",
    "class Solution:\n",
    "    def maxSlidingWindow(self, nums: List[int], k: int) -> List[int]:\n",
    "        if not nums:\n",
    "            return nums\n",
    "        \n",
    "        r = []\n",
    "        for i in range(len(nums) - k + 1):\n",
    "            print(i)\n",
    "            r.append(max(nums[i:i + k]))\n",
    "        return r"
   ]
  },
  {
   "cell_type": "code",
   "execution_count": null,
   "metadata": {},
   "outputs": [],
   "source": [
    "class Solution:\n",
    "    def maxSlidingWindow(self, nums: List[int], k: int) -> List[int]:\n",
    "        results = []\n",
    "        window = collections.deque()\n",
    "        current_max = float('-inf')\n",
    "        for i, v in enumerate(nums):\n",
    "            window.append(v)\n",
    "            if i < k - 1:\n",
    "                continue\n",
    "            if current_max == float('-inf'):\n",
    "                current_max = max(window)\n",
    "            elif v > current_max:\n",
    "                current_max = v\n",
    "            results.append(current_max)\n",
    "\n",
    "            if current_max == window.popleft():\n",
    "                current_max = float('-inf')\n",
    "        return results"
   ]
  },
  {
   "cell_type": "code",
   "execution_count": 2,
   "metadata": {},
   "outputs": [
    {
     "name": "stdout",
     "output_type": "stream",
     "text": [
      "deque([0])\n",
      "deque([1])\n",
      "deque([1, 2])\n",
      "deque([1, 2, 3])\n",
      "deque([4])\n",
      "deque([4, 5])\n",
      "deque([6])\n",
      "deque([7])\n",
      "[3, 3, 5, 5, 6, 7]\n"
     ]
    }
   ],
   "source": [
    "from collections import deque\n",
    "from typing import List\n",
    "\n",
    "class Solution:\n",
    "    def maxSlidingWindow(self, nums: List[int], k: int) -> List[int]:\n",
    "        deq, ans = deque(), []\n",
    "\n",
    "        for i in range(len(nums)):\n",
    "            # 앞에서부터 out of window -> 제거\n",
    "            if deq and i-deq[0] == k:\n",
    "                deq.popleft()\n",
    "\n",
    "            # 뒤에서부터 현재 추가할 숫자보다 작으면 -> 제거 (deq에 불필요한 숫자 없도록!)\n",
    "            while deq and nums[deq[-1]] <= nums[i]:\n",
    "                deq.pop()\n",
    "\n",
    "            deq.append(i) # 현재 숫자 추가( (i, num[i])로 저장해도 되나, 숫자 위치 저장만 해 space 줄임)\n",
    "\n",
    "            # 출력 부분 (현재 위치 >= window size일 때)\n",
    "            if i+1 >= k:\n",
    "                ans.append(nums[deq[0]])  # 맨 앞은 현재 window 에서 가장 큰 수\n",
    "\n",
    "        return ans\n",
    "\n",
    "sol = Solution()\n",
    "print(sol.maxSlidingWindow(nums=[1,3,-1,-3,5,3,6,7], k=3))\n",
    "\n",
    "'''\n",
    "파이썬 알고리즘 인터뷰 75번 문제.\n",
    "위 책 깃허브에 있는 sohyunwriter님의 코드.\n",
    "solution idea is from https://github.com/onlybooks/algorithm-interview/issues/67\n",
    "'''"
   ]
  },
  {
   "cell_type": "code",
   "execution_count": null,
   "metadata": {},
   "outputs": [],
   "source": []
  }
 ],
 "metadata": {
  "kernelspec": {
   "display_name": "Python 3.10.2 64-bit",
   "language": "python",
   "name": "python3"
  },
  "language_info": {
   "codemirror_mode": {
    "name": "ipython",
    "version": 3
   },
   "file_extension": ".py",
   "mimetype": "text/x-python",
   "name": "python",
   "nbconvert_exporter": "python",
   "pygments_lexer": "ipython3",
   "version": "3.10.2 (tags/v3.10.2:a58ebcc, Jan 17 2022, 14:12:15) [MSC v.1929 64 bit (AMD64)]"
  },
  "orig_nbformat": 4,
  "vscode": {
   "interpreter": {
    "hash": "42d32b1e20b5f0f90a8678623a60d916f416705640fd2210905ba178817c6883"
   }
  }
 },
 "nbformat": 4,
 "nbformat_minor": 2
}
