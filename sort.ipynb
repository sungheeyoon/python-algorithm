{
 "cells": [
  {
   "cell_type": "code",
   "execution_count": null,
   "metadata": {},
   "outputs": [],
   "source": [
    "#bubble sort (n^2)\n",
    "\n",
    "def bubblesort(A):\n",
    "    for i in range(1, len(A)):\n",
    "        for j in range(0, len(A) - 1):\n",
    "            if A[j] > A[j + 1]:\n",
    "                A[j] , A[j + 1] = A[j + 1], A[j]"
   ]
  },
  {
   "cell_type": "code",
   "execution_count": 1,
   "metadata": {},
   "outputs": [
    {
     "name": "stdout",
     "output_type": "stream",
     "text": [
      "2\n",
      "1\n"
     ]
    }
   ],
   "source": [
    "def bubblesort(A):\n",
    "    for i in range(len(A)-1, 0, -1):\n",
    "        swapped = False\n",
    "        for j in range(i):\n",
    "            if A[j] > A[j+1]:\n",
    "                A[j], A[j+1] = A[j+1], A[j]\n",
    "                swapped = True\n",
    "        if not swapped:\n",
    "            break\n"
   ]
  },
  {
   "cell_type": "code",
   "execution_count": null,
   "metadata": {},
   "outputs": [],
   "source": [
    "#quick sort\n",
    "\n",
    "def quicksort(A, lo, hi):\n",
    "    def partition(lo, hi):\n",
    "        pivot = A[hi]\n",
    "        left = lo\n",
    "        for right in range(lo, hi):\n",
    "            if A[right] < pivot:\n",
    "                A[left], A[right] = A[right], A[left]\n",
    "                left += 1\n",
    "        A[left], A[hi] = A[hi], A[left]\n",
    "        return left\n",
    "        \n",
    "    if lo < hi:\n",
    "        pivot = partition(lo, hi)\n",
    "        quicksort(A, lo, pivot - 1)\n",
    "        quicksort(A, pivot + 1, hi)"
   ]
  },
  {
   "cell_type": "markdown",
   "metadata": {},
   "source": [
    "### leetcode148. Sort List\n",
    "\n",
    "Given the head of a linked list, return the list after sorting it in ascending order.\n",
    "***\n",
    "Example 1:\n",
    "\n",
    "Input: head = [4,2,1,3]<br>\n",
    "Output: [1,2,3,4]"
   ]
  },
  {
   "cell_type": "code",
   "execution_count": null,
   "metadata": {},
   "outputs": [],
   "source": [
    "#병합정렬\n",
    "# Definition for singly-linked list.\n",
    "# class ListNode:\n",
    "#     def __init__(self, val=0, next=None):\n",
    "#         self.val = val\n",
    "#         self.next = next\n",
    "class Solution:\n",
    "    def mergeTwoLists(self, l1:ListNode, l2:ListNode):\n",
    "        if l1 and l2:\n",
    "            if l1.val > l2.val:\n",
    "                l1, l2 = l2, l1\n",
    "                \n",
    "            l1.next = self.mergeTwoLists(l1.next, l2)\n",
    "        return l1 or l2\n",
    "\n",
    "    def sortList(self, head: Optional[ListNode]) -> Optional[ListNode]:\n",
    "        if not (head and head.next):\n",
    "            return head\n",
    "        \n",
    "        half, slow, fast = None, head, head\n",
    "        while fast and fast.next:\n",
    "            half, slow, fast = slow, slow.next, fast.next.next\n",
    "        half.next = None\n",
    "\n",
    "        l1 = self.sortList(head)\n",
    "        l2 = self.sortList(slow)\n",
    "\n",
    "        return self.mergeTwoLists(l1, l2)"
   ]
  },
  {
   "cell_type": "code",
   "execution_count": null,
   "metadata": {},
   "outputs": [],
   "source": [
    "#내장함수\n",
    "# Definition for singly-linked list.\n",
    "# class ListNode:\n",
    "#     def __init__(self, val=0, next=None):\n",
    "#         self.val = val\n",
    "#         self.next = next\n",
    "class Solution:\n",
    "    def sortList(self, head: Optional[ListNode]) -> Optional[ListNode]:\n",
    "        p = head\n",
    "        lst = []\n",
    "        while p:\n",
    "            lst.append(p.val)\n",
    "            p = p.next\n",
    "\n",
    "        lst.sort()\n",
    "\n",
    "        p = head\n",
    "        for i in range(len(lst)):\n",
    "            p.val = lst[i]\n",
    "            p = p.next\n",
    "        \n",
    "        return head"
   ]
  },
  {
   "cell_type": "markdown",
   "metadata": {},
   "source": [
    "### leetcode56. Merge Intervals\n",
    "\n",
    "Given an array of intervals where intervals[i] = [starti, endi], merge all overlapping intervals, and return an array of the non-overlapping intervals that cover all the intervals in the input.\n",
    "***\n",
    "Example 1:\n",
    "\n",
    "Input: intervals = [[1,3],[2,6],[8,10],[15,18]]<br>\n",
    "Output: [[1,6],[8,10],[15,18]]<br>\n",
    "Explanation: Since intervals [1,3] and [2,6] overlap, merge them into [1,6]."
   ]
  },
  {
   "cell_type": "code",
   "execution_count": null,
   "metadata": {},
   "outputs": [],
   "source": [
    "class Solution:\n",
    "    def merge(self, intervals: List[List[int]]) -> List[List[int]]:\n",
    "        merged = []\n",
    "        for i in sorted(intervals, key=lambda x: x[0]):\n",
    "            if merged and i[0] <= merged[-1][1]:\n",
    "                merged[-1][1] = max(merged[-1][1], i[1])            \n",
    "            else:\n",
    "                #콤마는 중첩 리스트로 만들어주는 역할을 하며, 대괄호 []를 부여한 것과 동일한 역할을 한다.\n",
    "                merged += i,\n",
    "                #merged += [i]\n",
    "        return merged"
   ]
  },
  {
   "cell_type": "markdown",
   "metadata": {},
   "source": [
    "### leetcode147. Insertion Sort List\n",
    "\n",
    "Given the head of a singly linked list, sort the list using insertion sort, and return the sorted list's head.\n",
    "\n",
    "The steps of the insertion sort algorithm:\n",
    "\n",
    "Insertion sort iterates, consuming one input element each repetition and growing a sorted output list.\n",
    "At each iteration, insertion sort removes one element from the input data, finds the location it belongs within the sorted list and inserts it there.\n",
    "\n",
    "It repeats until no input elements remain.\n",
    "\n",
    "The following is a graphical example of the insertion sort algorithm. The partially sorted list (black) initially contains only the first element in the list. One element (red) is removed from the input data and inserted in-place into the sorted list with each iteration.\n",
    "***\n",
    "Example 1:\n",
    "\n",
    "Input: head = [4,2,1,3]<br>\n",
    "Output: [1,2,3,4]"
   ]
  },
  {
   "cell_type": "code",
   "execution_count": null,
   "metadata": {},
   "outputs": [],
   "source": [
    "# Definition for singly-linked list.\n",
    "# class ListNode:\n",
    "#     def __init__(self, val=0, next=None):\n",
    "#         self.val = val\n",
    "#         self.next = next\n",
    "class Solution:\n",
    "    def insertionSortList(self, head: Optional[ListNode]) -> Optional[ListNode]:\n",
    "        cur = parent = ListNode(None)\n",
    "\n",
    "        while head:\n",
    "            while cur.next and cur.next.val < head.val:\n",
    "                cur = cur.next\n",
    "\n",
    "            cur.next, head.next, head = head, cur.next, head.next\n",
    "\n",
    "            cur = parent\n",
    "        return cur.next "
   ]
  },
  {
   "cell_type": "code",
   "execution_count": null,
   "metadata": {},
   "outputs": [],
   "source": [
    "# Definition for singly-linked list.\n",
    "# class ListNode:\n",
    "#     def __init__(self, val=0, next=None):\n",
    "#         self.val = val\n",
    "#         self.next = next\n",
    "class Solution:\n",
    "    def insertionSortList(self, head: Optional[ListNode]) -> Optional[ListNode]:\n",
    "        cur = parent = ListNode(0)\n",
    "\n",
    "        while head:\n",
    "            while cur.next and cur.next.val < head.val:\n",
    "                cur = cur.next\n",
    "\n",
    "            cur.next, head.next, head = head, cur.next, head.next\n",
    "\n",
    "            if head and cur.val > head.val:\n",
    "                cur = parent\n",
    "        return parent.next "
   ]
  },
  {
   "cell_type": "markdown",
   "metadata": {},
   "source": [
    "### leetcode179. Largest Number\n",
    "\n",
    "Given a list of non-negative integers nums, arrange them such that they form the largest number and return it.\n",
    "\n",
    "Since the result may be very large, so you need to return a string instead of an integer.\n",
    "***\n",
    "Example 1:\n",
    "\n",
    "Input: nums = [10,2]<br>\n",
    "Output: \"210\""
   ]
  },
  {
   "cell_type": "code",
   "execution_count": null,
   "metadata": {},
   "outputs": [],
   "source": [
    "class Solution:\n",
    "    @staticmethod\n",
    "    def to_swap(n1:int, n2:int) -> bool:\n",
    "        return str(n1) + str(n2) < str(n2) + str(n1)\n",
    "\n",
    "    def largestNumber(self, nums: List[int]) -> str:\n",
    "        i = 1\n",
    "        while i < len(nums):\n",
    "            j = i\n",
    "            while j > 0 and self.to_swap(nums[j - 1], nums[j]):\n",
    "                nums[j - 1], nums[j] = nums[j], nums[j - 1]\n",
    "                j -= 1\n",
    "            i += 1\n",
    "        return str(int(''.join(map(str, nums))))"
   ]
  },
  {
   "cell_type": "markdown",
   "metadata": {},
   "source": [
    "### leetcode242. Valid Anagram\n",
    "\n",
    "Given two strings s and t, return true if t is an anagram of s, and false otherwise.\n",
    "\n",
    "An Anagram is a word or phrase formed by rearranging the letters of a different word or phrase, typically using all the original letters exactly once.\n",
    "***\n",
    "Example 1:\n",
    "\n",
    "Input: s = \"anagram\", t = \"nagaram\"<br>\n",
    "Output: true"
   ]
  },
  {
   "cell_type": "code",
   "execution_count": null,
   "metadata": {},
   "outputs": [],
   "source": [
    "class Solution:\n",
    "    def isAnagram(self, s: str, t: str) -> bool:\n",
    "        return sorted(s) == sorted(t)"
   ]
  },
  {
   "cell_type": "markdown",
   "metadata": {},
   "source": [
    "### leetcode75. Sort Colors\n",
    "\n",
    "Given an array nums with n objects colored red, white, or blue, sort them in-place so that objects of the same color are adjacent, with the colors in the order red, white, and blue.\n",
    "\n",
    "We will use the integers 0, 1, and 2 to represent the color red, white, and blue, respectively.\n",
    "\n",
    "You must solve this problem without using the library's sort function.\n",
    "***\n",
    "Example 1:\n",
    "\n",
    "Input: nums = [2,0,2,1,1,0]<br>\n",
    "Output: [0,0,1,1,2,2]"
   ]
  },
  {
   "cell_type": "code",
   "execution_count": null,
   "metadata": {},
   "outputs": [],
   "source": [
    "class Solution:\n",
    "    def sortColors(self, nums: List[int]) -> None:\n",
    "        \"\"\"\n",
    "        Do not return anything, modify nums in-place instead.\n",
    "        \"\"\"\n",
    "        red, white, blue = 0, 0, len(nums)\n",
    "\n",
    "        while white < blue:\n",
    "            if nums[white] < 1:\n",
    "                nums[red], nums[white] = nums[white], nums[red]\n",
    "                white += 1\n",
    "                red += 1\n",
    "            elif nums[white] > 1:\n",
    "                blue -= 1\n",
    "                #blue랑 swap한 값이 뭔지모르기 때문에 다시 루프로 돌아간다 (white += 1 이 없는 이유)\n",
    "                nums[blue], nums[white] = nums[white], nums[blue]\n",
    "            else:\n",
    "                white += 1"
   ]
  },
  {
   "cell_type": "markdown",
   "metadata": {},
   "source": [
    "### leetcode973. K Closest Points to Origin\n",
    "\n",
    "Given an array of points where points[i] = [xi, yi] represents a point on the X-Y plane and an integer k, return the k closest points to the origin (0, 0).\n",
    "\n",
    "The distance between two points on the X-Y plane is the Euclidean distance (i.e., √(x1 - x2)2 + (y1 - y2)2).\n",
    "\n",
    "You may return the answer in any order. The answer is guaranteed to be unique (except for the order that it is in).\n",
    "***\n",
    "Example 1:\n",
    "\n",
    "Input: points = [[1,3],[-2,2]], k = 1<br>\n",
    "Output: [[-2,2]]<br>\n",
    "Explanation:<br>\n",
    "The distance between (1, 3) and the origin is sqrt(10).<br>\n",
    "The distance between (-2, 2) and the origin is sqrt(8).<br>\n",
    "Since sqrt(8) < sqrt(10), (-2, 2) is closer to the origin.<br>\n",
    "We only want the closest k = 1 points from the origin, so the answer is just [[-2,2]]."
   ]
  },
  {
   "cell_type": "code",
   "execution_count": null,
   "metadata": {},
   "outputs": [],
   "source": [
    "class Solution:\n",
    "    def kClosest(self, points: List[List[int]], k: int) -> List[List[int]]:\n",
    "        heap = []\n",
    "        for (x, y) in points:\n",
    "            dist = x**2 + y**2\n",
    "            heapq.heappush(heap,(dist ,x , y))\n",
    "\n",
    "        result = []\n",
    "        for _ in range(k):\n",
    "            (dist, x, y) = heapq.heappop(heap)\n",
    "            result.append((x,y))\n",
    "        return result"
   ]
  }
 ],
 "metadata": {
  "kernelspec": {
   "display_name": "Python 3.10.2 64-bit",
   "language": "python",
   "name": "python3"
  },
  "language_info": {
   "codemirror_mode": {
    "name": "ipython",
    "version": 3
   },
   "file_extension": ".py",
   "mimetype": "text/x-python",
   "name": "python",
   "nbconvert_exporter": "python",
   "pygments_lexer": "ipython3",
   "version": "3.10.2"
  },
  "orig_nbformat": 4,
  "vscode": {
   "interpreter": {
    "hash": "42d32b1e20b5f0f90a8678623a60d916f416705640fd2210905ba178817c6883"
   }
  }
 },
 "nbformat": 4,
 "nbformat_minor": 2
}
