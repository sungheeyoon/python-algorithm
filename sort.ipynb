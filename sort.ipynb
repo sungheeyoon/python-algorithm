{
 "cells": [
  {
   "cell_type": "code",
   "execution_count": null,
   "metadata": {},
   "outputs": [],
   "source": [
    "#bubble sort (n^2)\n",
    "\n",
    "def bubblesort(A):\n",
    "    for i in range(1, len(A)):\n",
    "        for j in range(0, len(A) - 1):\n",
    "            if A[j] > A[j + 1]:\n",
    "                A[j] , A[j + 1] = A[j + 1], A[j]"
   ]
  },
  {
   "cell_type": "code",
   "execution_count": 1,
   "metadata": {},
   "outputs": [
    {
     "name": "stdout",
     "output_type": "stream",
     "text": [
      "2\n",
      "1\n"
     ]
    }
   ],
   "source": [
    "def bubblesort(A):\n",
    "    for i in range(len(A)-1, 0, -1):\n",
    "        swapped = False\n",
    "        for j in range(i):\n",
    "            if A[j] > A[j+1]:\n",
    "                A[j], A[j+1] = A[j+1], A[j]\n",
    "                swapped = True\n",
    "        if not swapped:\n",
    "            break\n"
   ]
  },
  {
   "cell_type": "code",
   "execution_count": null,
   "metadata": {},
   "outputs": [],
   "source": [
    "#quick sort\n",
    "\n",
    "def quicksort(A, lo, hi):\n",
    "    def partition(lo, hi):\n",
    "        pivot = A[hi]\n",
    "        left = lo\n",
    "        for right in range(lo, hi):\n",
    "            if A[right] < pivot:\n",
    "                A[left], A[right] = A[right], A[left]\n",
    "                left += 1\n",
    "        A[left], A[hi] = A[hi], A[left]\n",
    "        return left\n",
    "        \n",
    "    if lo < hi:\n",
    "        pivot = partition(lo, hi)\n",
    "        quicksort(A, lo, pivot - 1)\n",
    "        quicksort(A, pivot + 1, hi)"
   ]
  }
 ],
 "metadata": {
  "kernelspec": {
   "display_name": "Python 3.10.2 64-bit",
   "language": "python",
   "name": "python3"
  },
  "language_info": {
   "codemirror_mode": {
    "name": "ipython",
    "version": 3
   },
   "file_extension": ".py",
   "mimetype": "text/x-python",
   "name": "python",
   "nbconvert_exporter": "python",
   "pygments_lexer": "ipython3",
   "version": "3.10.2"
  },
  "orig_nbformat": 4,
  "vscode": {
   "interpreter": {
    "hash": "42d32b1e20b5f0f90a8678623a60d916f416705640fd2210905ba178817c6883"
   }
  }
 },
 "nbformat": 4,
 "nbformat_minor": 2
}
