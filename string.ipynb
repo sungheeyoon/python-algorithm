{
 "cells": [
  {
   "cell_type": "markdown",
   "metadata": {},
   "source": [
    "### leetcode125. Valid Palindrome\n",
    "'팰린드롬'이란\n",
    "앞뒤가 똑같은 단어나 문장으로, 뒤집어도 같은 말이 되는 단어 또는 문장을 팰린드롬 이라고 한다.\n",
    "\n",
    "Given a string s, return true if it is a palindrome, or false otherwise."
   ]
  },
  {
   "cell_type": "code",
   "execution_count": 6,
   "metadata": {},
   "outputs": [
    {
     "data": {
      "text/plain": [
       "True"
      ]
     },
     "execution_count": 6,
     "metadata": {},
     "output_type": "execute_result"
    }
   ],
   "source": [
    "import re\n",
    "\n",
    "def isPalindrome(s: str) -> bool:\n",
    "    s=s.lower()\n",
    "    #a-z,0-9가 아니면 빈칸처리\n",
    "    s=re.sub('[^a-z0-9]','',s)\n",
    "    return s==s[::-1]\n",
    "\n",
    "isPalindrome(\"A man, a plan, a canal: Panama\")\n"
   ]
  },
  {
   "cell_type": "code",
   "execution_count": null,
   "metadata": {},
   "outputs": [],
   "source": [
    "#내 풀이 전체문제다시풀기\n",
    "\n",
    "class Solution:\n",
    "    def isPalindrome(self, s: str) -> bool:\n",
    "        result = \"\"\n",
    "        for char in s.lower():\n",
    "\t    #각 \"char\"를 isalnum()로 알파벳과 숫자인지 확인하여 result에 삽입\n",
    "            if char.isalnum():\n",
    "                result += char\n",
    "\t#문자를 뒤집어도 똑같다면(팰린드롬) True를 리턴\n",
    "        return result == result[::-1]"
   ]
  },
  {
   "cell_type": "markdown",
   "metadata": {},
   "source": [
    "### leetcode344. Reverse String\n",
    "\n",
    "Write a function that reverses a string. The input string is given as an array of characters s.\n",
    "\n",
    "You must do this by modifying the input array in-place with O(1) extra memory."
   ]
  },
  {
   "cell_type": "code",
   "execution_count": 5,
   "metadata": {},
   "outputs": [
    {
     "name": "stdout",
     "output_type": "stream",
     "text": [
      "['o', 'l', 'l', 'e', 'h']\n"
     ]
    }
   ],
   "source": [
    "from typing import List\n",
    "\n",
    "s = [\"h\",\"e\",\"l\",\"l\",\"o\"]\n",
    "\n",
    "def reverseString(s: List[str]) -> None:\n",
    "        s.reverse()\n",
    "reverseString(s)\n",
    "print(s)"
   ]
  },
  {
   "cell_type": "code",
   "execution_count": null,
   "metadata": {},
   "outputs": [],
   "source": [
    "#투 포인터\n",
    "def reverseString(s: List[str]) -> None:\n",
    "        left,right=0,len(s)-1\n",
    "        while right>=left:\n",
    "            s[left],s[right]=s[right],s[left]\n",
    "            left+=1\n",
    "            right-=1"
   ]
  },
  {
   "cell_type": "markdown",
   "metadata": {},
   "source": [
    "### leetcode937. Reorder Data in Log Files\n",
    "\n",
    "You are given an array of logs. Each log is a space-delimited string of words, where the first word is the identifier.\n",
    "\n",
    "There are two types of logs:\n",
    "\n",
    "Letter-logs: All words (except the identifier) consist of lowercase English letters.\n",
    "Digit-logs: All words (except the identifier) consist of digits.\n",
    "Reorder these logs so that:\n",
    "\n",
    "The letter-logs come before all digit-logs.<br>\n",
    "**The letter-logs are sorted lexicographically by their contents. If their contents are the same, then sort them lexicographically by their identifiers.**<br>\n",
    "The digit-logs maintain their relative ordering.\n",
    "Return the final order of the logs.\n",
    "***\n",
    "Example 1:\n",
    "\n",
    "Input: logs = [\"dig1 8 1 5 1\",\"let1 art can\",\"dig2 3 6\",\"let2 own kit dig\",\"let3 art zero\"]\n",
    "\n",
    "Output: [\"let1 art can\",\"let3 art zero\",\"let2 own kit dig\",\"dig1 8 1 5 1\",\"dig2 3 6\"]"
   ]
  },
  {
   "cell_type": "code",
   "execution_count": null,
   "metadata": {},
   "outputs": [],
   "source": [
    "#내 풀이\n",
    "def reorderLogFiles(logs: List[str]) -> List[str]:\n",
    "        digit_logs=[]\n",
    "        letter_logs=[]\n",
    "        #숫자랑 문자랑나눔\n",
    "        for log in logs:\n",
    "            if log.split(\" \")[1].isdigit():\n",
    "                digit_logs.append(log.split(\" \"))\n",
    "            else:\n",
    "                letter_logs.append(log.split(\" \"))\n",
    "        #정렬\n",
    "        result= sorted(letter_logs,key=lambda x:(x[1:],x[0]))+digit_logs\n",
    "        print(result)\n",
    "        #더블리스트 형태변환\n",
    "        answer=[]\n",
    "        for i in result:\n",
    "            answer.append((\" \").join(i))\n",
    "        return answer"
   ]
  },
  {
   "cell_type": "code",
   "execution_count": null,
   "metadata": {},
   "outputs": [],
   "source": [
    "#책  풀이\n",
    "def reorderLogFiles(logs: List[str]) -> List[str]:\n",
    "        digit_logs,letter_logs=[],[]   \n",
    "        #숫자랑 문자랑나눔\n",
    "        for log in logs:\n",
    "            if log.split()[1].isdigit():\n",
    "                digit_logs.append(log)\n",
    "            else:\n",
    "                letter_logs.append(log)\n",
    "        #정렬\n",
    "        letter_logs.sort(key=lambda x:(x.split()[1:],x.split()[0]))\n",
    "\n",
    "        return letter_logs+digit_logs"
   ]
  },
  {
   "cell_type": "markdown",
   "metadata": {},
   "source": [
    "### leetcode819. Most Common Word\n",
    "\n",
    "Given a string paragraph and a string array of the banned words banned, return the most frequent word that is not banned. It is guaranteed there is at least one word that is not banned, and that the answer is unique.\n",
    "\n",
    "The words in paragraph are case-insensitive and the answer should be returned in lowercase.\n",
    "\n",
    "***\n",
    "Example 1:\n",
    "\n",
    "Input: paragraph = \"Bob hit a ball, the hit BALL flew far after it was hit.\", banned = [\"hit\"]\n",
    "\n",
    "Output: \"ball\""
   ]
  },
  {
   "cell_type": "code",
   "execution_count": null,
   "metadata": {},
   "outputs": [],
   "source": [
    "#내 풀이\n",
    "def mostCommonWord(paragraph: str, banned: List[str]) -> str:\n",
    "        p_map={}\n",
    "        #전처리\n",
    "        paragraph=paragraph.lower()\n",
    "        paragraph=re.sub(r\"[^\\w]\", \" \", paragraph)\n",
    "        p_list=paragraph.split()\n",
    "        #맵처리\n",
    "        for p in p_list:\n",
    "            if p not in banned:\n",
    "                p_map[p]=p_map.get(p,0)+1\n",
    "        return max(p_map, key=p_map.get)"
   ]
  },
  {
   "cell_type": "code",
   "execution_count": null,
   "metadata": {},
   "outputs": [],
   "source": [
    "#책 풀이\n",
    "import collections\n",
    "\n",
    "\n",
    "def mostCommonWord(paragraph: str, banned: List[str]) -> str:\n",
    "        #문자열이 아니면 빈칸처리, banned list제거\n",
    "        words = [word for word in re.sub(r\"[^\\w]\", \" \", paragraph)\n",
    "                 .lower().split()\n",
    "                    if word not in banned]\n",
    "        \n",
    "        counts = collections.Counter(words)\n",
    "        return counts.most_common(1)[0][0]"
   ]
  },
  {
   "cell_type": "markdown",
   "metadata": {},
   "source": [
    "### leetcode49. Group Anagrams\n",
    "\n",
    "Given an array of strings strs, group the anagrams together. You can return the answer in any order.\n",
    "\n",
    "An Anagram is a word or phrase formed by rearranging the letters of a different word or phrase, typically using all the original letters exactly once.\n",
    "***\n",
    "Example 1:\n",
    "\n",
    "Input: strs = [\"eat\",\"tea\",\"tan\",\"ate\",\"nat\",\"bat\"]\n",
    "\n",
    "Output: [[\"bat\"],[\"nat\",\"tan\"],[\"ate\",\"eat\",\"tea\"]]"
   ]
  },
  {
   "cell_type": "code",
   "execution_count": 9,
   "metadata": {},
   "outputs": [
    {
     "data": {
      "text/plain": [
       "[['eat', 'tea', 'ate'], ['tan', 'nat'], ['bat']]"
      ]
     },
     "execution_count": 9,
     "metadata": {},
     "output_type": "execute_result"
    }
   ],
   "source": [
    "#내 풀이\n",
    "from typing import List\n",
    "def groupAnagrams(strs: List[str]) -> List[List[str]]:\n",
    "        hash_map={}\n",
    "        for s in strs:\n",
    "            t = ''.join(sorted(s))\n",
    "            hash_map[t]= hash_map.get(t,[])+[s]\n",
    "        return(list(hash_map.values()))\n",
    "    \n",
    "groupAnagrams([\"eat\",\"tea\",\"tan\",\"ate\",\"nat\",\"bat\"])"
   ]
  },
  {
   "cell_type": "code",
   "execution_count": 8,
   "metadata": {},
   "outputs": [
    {
     "data": {
      "text/plain": [
       "[['eat', 'tea', 'ate'], ['tan', 'nat'], ['bat']]"
      ]
     },
     "execution_count": 8,
     "metadata": {},
     "output_type": "execute_result"
    }
   ],
   "source": [
    "import collections\n",
    "def groupAnagrams(strs: List[str]) -> List[List[str]]:\n",
    "    anagrams = collections.defaultdict(list)\n",
    "    \n",
    "    for word in strs:\n",
    "        anagrams[\"\".join(sorted(word))].append(word)\n",
    "        \n",
    "    return(list(anagrams.values()))\n",
    "groupAnagrams([\"eat\",\"tea\",\"tan\",\"ate\",\"nat\",\"bat\"])"
   ]
  },
  {
   "cell_type": "markdown",
   "metadata": {},
   "source": [
    "### leetcode5. Longest Palindromic Substring\n",
    "\n",
    "Given a string s, return the longest palindromic substring in s.\n",
    "***\n",
    "Example 1:\n",
    "\n",
    "Input: s = \"babad\"\n",
    "\n",
    "Output: \"bab\""
   ]
  },
  {
   "cell_type": "code",
   "execution_count": null,
   "metadata": {},
   "outputs": [],
   "source": [
    "def longestPalindrome(s: str) -> str:\n",
    "        def expand(left,right):\n",
    "            while(left>=0 and right<len(s) and s[left] == s[right]):\n",
    "                left-=1\n",
    "                right+=1\n",
    "            return s[left+1:right]\n",
    "        result=''\n",
    "        for i in range(len(s)-1):\n",
    "            result=max(result,expand(i,i+1),expand(i,i+2),key=len)\n",
    "        return result"
   ]
  }
 ],
 "metadata": {
  "kernelspec": {
   "display_name": "Python 3.10.2 64-bit",
   "language": "python",
   "name": "python3"
  },
  "language_info": {
   "codemirror_mode": {
    "name": "ipython",
    "version": 3
   },
   "file_extension": ".py",
   "mimetype": "text/x-python",
   "name": "python",
   "nbconvert_exporter": "python",
   "pygments_lexer": "ipython3",
   "version": "3.10.2 (tags/v3.10.2:a58ebcc, Jan 17 2022, 14:12:15) [MSC v.1929 64 bit (AMD64)]"
  },
  "orig_nbformat": 4,
  "vscode": {
   "interpreter": {
    "hash": "42d32b1e20b5f0f90a8678623a60d916f416705640fd2210905ba178817c6883"
   }
  }
 },
 "nbformat": 4,
 "nbformat_minor": 2
}
