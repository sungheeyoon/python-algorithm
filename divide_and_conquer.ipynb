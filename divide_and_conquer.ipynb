{
 "cells": [
  {
   "attachments": {},
   "cell_type": "markdown",
   "metadata": {},
   "source": [
    "### leetcod169. Majority Element\n",
    "\n",
    "\n",
    "Given an array nums of size n, return the majority element.\n",
    "\n",
    "The majority element is the element that appears more than ⌊n / 2⌋ times. You may assume that the majority element always exists in the array.\n",
    "***\n",
    "Example 1:\n",
    "\n",
    "Input: nums = [3,2,3]<br>\n",
    "Output: 3"
   ]
  },
  {
   "cell_type": "code",
   "execution_count": null,
   "metadata": {},
   "outputs": [],
   "source": [
    "class Solution:\n",
    "    def majorityElement(self, nums: List[int]) -> int:\n",
    "        for num in nums:\n",
    "            if nums.count(num) > len(nums) // 2:\n",
    "                return num"
   ]
  },
  {
   "cell_type": "code",
   "execution_count": null,
   "metadata": {},
   "outputs": [],
   "source": [
    "class Solution:\n",
    "    def majorityElement(self, nums: List[int]) -> int:\n",
    "        counts = collections.defaultdict(int)\n",
    "        for num in nums:\n",
    "            if counts[num] == 0:\n",
    "                counts[num] = nums.count(num)\n",
    "            if counts[num] > len(nums) // 2:\n",
    "                return num"
   ]
  },
  {
   "cell_type": "code",
   "execution_count": null,
   "metadata": {},
   "outputs": [],
   "source": [
    "#분할정복\n",
    "class Solution:\n",
    "    def majorityElement(self, nums: List[int]) -> int:\n",
    "        if not nums:\n",
    "            return None\n",
    "        if len(nums) == 1:\n",
    "            return nums[0]\n",
    "        \n",
    "        half = len(nums) // 2\n",
    "        a = self.majorityElement(nums[:half])\n",
    "        b = self.majorityElement(nums[half:])\n",
    "\n",
    "        return [b, a][nums.count(a) > half]"
   ]
  },
  {
   "cell_type": "code",
   "execution_count": null,
   "metadata": {},
   "outputs": [],
   "source": [
    "class Solution:\n",
    "    def majorityElement(self, nums: List[int]) -> int:\n",
    "        return sorted(nums)[len(nums) // 2]"
   ]
  },
  {
   "attachments": {},
   "cell_type": "markdown",
   "metadata": {},
   "source": [
    "### leetcod241. Different Ways to Add Parentheses\n",
    "\n",
    "\n",
    "Given a string expression of numbers and operators, return all possible results from computing all the different possible ways to group numbers and operators. You may return the answer in any order.\n",
    "\n",
    "The test cases are generated such that the output values fit in a 32-bit integer and the number of different results does not exceed 104.\n",
    "***\n",
    "Example 1:\n",
    "\n",
    "Input: expression = \"2-1-1\"<br>\n",
    "Output: [0,2]<br>\n",
    "Explanation:<br>\n",
    "((2-1)-1) = 0 <br>\n",
    "(2-(1-1)) = 2"
   ]
  },
  {
   "cell_type": "code",
   "execution_count": null,
   "metadata": {},
   "outputs": [],
   "source": [
    "class Solution:\n",
    "    def diffWaysToCompute(self, expression: str) -> List[int]:\n",
    "        def compute(left, right, op):\n",
    "            results = []\n",
    "            for l in left:\n",
    "                for r in right:\n",
    "                    results.append(eval(str(l) + op + str(r)))\n",
    "            return results\n",
    "\n",
    "        if expression.isdigit():\n",
    "            return [int(expression)]\n",
    "        \n",
    "        results = []\n",
    "        for index, value in enumerate(expression):\n",
    "            if value in \"-+*\":\n",
    "                left = self.diffWaysToCompute(expression[:index])\n",
    "                right = self.diffWaysToCompute(expression[index + 1:])\n",
    "\n",
    "                results.extend(compute(left, right, value))\n",
    "        return results"
   ]
  }
 ],
 "metadata": {
  "kernelspec": {
   "display_name": "Python 3",
   "language": "python",
   "name": "python3"
  },
  "language_info": {
   "name": "python",
   "version": "3.10.2 (tags/v3.10.2:a58ebcc, Jan 17 2022, 14:12:15) [MSC v.1929 64 bit (AMD64)]"
  },
  "orig_nbformat": 4,
  "vscode": {
   "interpreter": {
    "hash": "42d32b1e20b5f0f90a8678623a60d916f416705640fd2210905ba178817c6883"
   }
  }
 },
 "nbformat": 4,
 "nbformat_minor": 2
}
